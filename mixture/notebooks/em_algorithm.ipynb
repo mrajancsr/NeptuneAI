{
 "cells": [
  {
   "cell_type": "markdown",
   "metadata": {},
   "source": [
    "## Expectation-Maximization\n",
    "- EM is an algorithm for maximum likelihood optimization when there is missing information - oir when it is useful to add latent augmented variables to simplify maximum likelihood calculations\n",
    "\n",
    "## Maximum Likelihood with complete information\n",
    "- Suppose we have an experiment with coin A that has probability $\\theta_A$ of heads and coin B that has probability $\\theta_B$ of tails\n",
    "- Draw m samples as follows: for each sample, pick one of the coins at random, flip it n times and record the number of heads and tails ($n_H + n_T = n$)\n",
    "- if we recorded which coin we used for each sample, then we have __complete__ information and can estimate $\\theta_A$ and $\\theta_B$.  For example: Suppose we draw 5 samples and sequence of coin chosen is A, A, B, A, B\n",
    "and let the number of heads and tails in each sample represented by vector x.  Then complete loglikelihood is\n",
    "\n",
    "$$ \\log{p(x_1; \\theta_A)} + \\log{p(x_1; \\theta_A)} + \\log{p(x_1; \\theta_B)} + \\log{p(x_1; \\theta_A)} + \\log{p(x_1; \\theta_B)} $$\n",
    "\n",
    "where $\\log{p(x; \\theta)}$ is binomial pmf with $n = m$ and $p = \\theta$\n",
    "- let $z_i$ be the label of the $i^{th}$ coin\n"
   ]
  },
  {
   "cell_type": "code",
   "execution_count": 1,
   "metadata": {},
   "outputs": [],
   "source": [
    "from scipy.optimize import minimize\n",
    "import pandas as pd\n",
    "from scipy.stats import bernoulli, binom\n",
    "import numpy as np\n",
    "def neg_loglik(thetas, n, xs, zs):\n",
    "    return -np.sum([binom(n, thetas[z]).logpmf(x) for (x, z) in zip(xs, zs)])"
   ]
  },
  {
   "cell_type": "code",
   "execution_count": 2,
   "metadata": {},
   "outputs": [],
   "source": [
    "m = 10 # 10 tosses of each coin\n",
    "theta_A = 0.8\n",
    "theta_B = 0.3\n",
    "theta_0 = [theta_A, theta_B]\n",
    "\n",
    "coin_A = bernoulli(theta_A)\n",
    "coin_B = bernoulli(theta_B)\n",
    "\n",
    "xs = np.array(list(map(sum, [coin_A.rvs(m), coin_A.rvs(m), coin_B.rvs(m), coin_A.rvs(m), coin_B.rvs(m)])))\n",
    "zs = [0, 0, 1, 0, 1]"
   ]
  },
  {
   "cell_type": "code",
   "execution_count": 3,
   "metadata": {},
   "outputs": [
    {
     "data": {
      "text/plain": [
       "array([6, 8, 4, 7, 5])"
      ]
     },
     "execution_count": 3,
     "metadata": {},
     "output_type": "execute_result"
    }
   ],
   "source": [
    "# total successes in each trial\n",
    "xs"
   ]
  },
  {
   "cell_type": "code",
   "execution_count": 4,
   "metadata": {},
   "outputs": [
    {
     "data": {
      "text/plain": [
       "(0.7, 0.45)"
      ]
     },
     "execution_count": 4,
     "metadata": {},
     "output_type": "execute_result"
    }
   ],
   "source": [
    "# mle for binomial is phat = sum(xi)/n, i = 1: n where n is number of trials\n",
    "ml_A = np.sum(xs[[0,1,3]])/(3.0*m)\n",
    "ml_B = np.sum(xs[[2,4]])/(2.0*m)\n",
    "ml_A, ml_B"
   ]
  },
  {
   "cell_type": "code",
   "execution_count": 5,
   "metadata": {
    "tags": []
   },
   "outputs": [
    {
     "data": {
      "text/plain": [
       "array([0.69999982, 0.45000077])"
      ]
     },
     "execution_count": 5,
     "metadata": {},
     "output_type": "execute_result"
    }
   ],
   "source": [
    "# numerically lets estimate the theta\n",
    "bnds = [(0,1), (0,1)]\n",
    "minimize(neg_loglik, [0.5, 0.5], args=(m, xs, zs),\n",
    "         bounds=bnds, method='tnc', options={'maxiter': 100})['x']\n"
   ]
  },
  {
   "cell_type": "markdown",
   "metadata": {},
   "source": [
    "## Incomplete information\n",
    "- we can see that in the case of complete information, it is pretty easy to estimate the theta\n",
    "- if we did not record the coin we used, we have missing data and problem of estimating $\\theta$ is harder to solve\n",
    "- Ask a different question: can we assign weights $w_i$ to each sample according to how likely it is to be generated from coin A or coin B\n",
    "- with knowledge of $w_i$, we can maximize likelihood to find $\\theta$.  So, start with a guess of $\\theta$, then calculate z, then update $\\theta$ using the new value of z and repeat until convergence.  This is the EM algorithm\n",
    "- in other words, since we dont know the label of ith coin, we can use bayes theorem.  this is the Eth step.  ex: suppose $\\theta_A$ = 0.4 and $\\theta_B = 0.7$.  We observe the following flips: HHHHHHHHTT.  Let E be the event that this sequence occurs.  Let $Z_A$ be event we chose coin A and $Z_B$ be event we chose coin B.  What is $P(E | Z_A)$? Conduct another trial with E = HHHHHTTTTT with $\\theta_A = 0.4$ and $\\theta_B = 0.6$\n",
    "- Clearly, given we know which coin was chosen, the probability of observing k successes in m trials is binomail with parmaters(m, p)\n"
   ]
  },
  {
   "cell_type": "code",
   "execution_count": 6,
   "metadata": {},
   "outputs": [
    {
     "data": {
      "text/plain": [
       "(0.010616832, 0.010616832000000005)"
      ]
     },
     "execution_count": 6,
     "metadata": {},
     "output_type": "execute_result"
    }
   ],
   "source": [
    "# since there are 8 heads and 2 tails\n",
    "p_EA =  binom(10, 0.4).pmf(8)\n",
    "manual = (10 * 9 / 2) * 0.4**8 * 0.6**2\n",
    "p_EA, manual # matches"
   ]
  },
  {
   "cell_type": "code",
   "execution_count": 7,
   "metadata": {},
   "outputs": [],
   "source": [
    "p_EB = binom(10, 0.7).pmf(8)\n",
    "manual = (10 * 9 / 2) * 0.7**8 * 0.3**2"
   ]
  },
  {
   "cell_type": "code",
   "execution_count": 8,
   "metadata": {},
   "outputs": [
    {
     "data": {
      "text/plain": [
       "0.23347444049999988"
      ]
     },
     "execution_count": 8,
     "metadata": {},
     "output_type": "execute_result"
    }
   ],
   "source": [
    "binom(10, 0.7).pmf(8)"
   ]
  },
  {
   "cell_type": "code",
   "execution_count": 9,
   "metadata": {},
   "outputs": [
    {
     "data": {
      "text/plain": [
       "0.23347444049999988"
      ]
     },
     "execution_count": 9,
     "metadata": {},
     "output_type": "execute_result"
    }
   ],
   "source": [
    "45 * 0.7**8 * 0.3**2"
   ]
  },
  {
   "cell_type": "code",
   "execution_count": 10,
   "metadata": {},
   "outputs": [
    {
     "data": {
      "text/plain": [
       "(0.23347444049999988, 0.23347444049999988)"
      ]
     },
     "execution_count": 10,
     "metadata": {},
     "output_type": "execute_result"
    }
   ],
   "source": [
    "p_EB, manual"
   ]
  },
  {
   "cell_type": "markdown",
   "metadata": {},
   "source": [
    "Due to bayes theorem, we know that: \n",
    "\n",
    "$$ P(Z_A | E) = \\frac{P(E | Z_A)P(Z_A)}{P(E|Z_A)P(Z_A) + P(E | Z_B)P(Z_B)}$$\n",
    "\n",
    "and since $P(Z_A) = P(Z_B) = \\frac{1}{2}$, wee see that: "
   ]
  },
  {
   "cell_type": "code",
   "execution_count": 11,
   "metadata": {},
   "outputs": [
    {
     "data": {
      "text/plain": [
       "(0.04349533636029533, 0.9565046636397047)"
      ]
     },
     "execution_count": 11,
     "metadata": {},
     "output_type": "execute_result"
    }
   ],
   "source": [
    "pZ_AE = p_EA / (p_EA + p_EB )\n",
    "pZ_BE = p_EB  / (p_EA + p_EB )\n",
    "pZ_AE, pZ_BE"
   ]
  },
  {
   "cell_type": "markdown",
   "metadata": {},
   "source": [
    "- Hence, much more likely to have come from coin B rather than A.  If we repeat another trial, we will see that they are both equally likely to have come from coin A or coinB"
   ]
  },
  {
   "cell_type": "code",
   "execution_count": 12,
   "metadata": {},
   "outputs": [
    {
     "data": {
      "text/plain": [
       "(0.5, 0.5)"
      ]
     },
     "execution_count": 12,
     "metadata": {},
     "output_type": "execute_result"
    }
   ],
   "source": [
    "# 2nd trial\n",
    "p_EA =  binom(10, 0.4).pmf(5)\n",
    "p_EB = binom(10, 0.6).pmf(5)\n",
    "pZ_AE = p_EA / (p_EA + p_EB )\n",
    "pZ_BE = p_EB  / (p_EA + p_EB )\n",
    "pZ_AE, pZ_BE"
   ]
  },
  {
   "cell_type": "markdown",
   "metadata": {},
   "source": [
    "More generally, for a given trial E with number of heads $h$ and number of tails $t = 10 - h$: \n",
    "\n",
    "$$ P(Z_A | E) = \\frac{\\theta_A^h (1-\\theta_A)^t}{\\theta_A^h (1-\\theta_A)^t + \\theta_B^h (1-\\theta_B)^t}$$\n",
    "\n",
    "and \n",
    "\n",
    "$$ P(Z_B | E) = \\frac{\\theta_B^h (1-\\theta_B)^t}{\\theta_A^h (1-\\theta_A)^t + \\theta_B^h (1-\\theta_B)^t}$$\n",
    "\n",
    "### Assigning expected number of flips to each coin\n",
    "- Now that we have an estimate of relative likelihood each coin was chosen, we can estimate the number of  heads and tails for each coin by multiplying these probabilities by number of heads and tails in trial.  Assume $\\theta_A^0 = 0.6$ and $\\theta_B^0 = 0.5$ for initial estimate"
   ]
  },
  {
   "cell_type": "code",
   "execution_count": 13,
   "metadata": {},
   "outputs": [],
   "source": [
    "trials = [[1,0,0,0,1,1,0,1,0,1], [1,1,1,1,0,1,1,1,1,1], [1,0,1,1,1,1,1,0,1,1], [1,0,1,0,0,0,1,1,0,0],\n",
    "[0,1,1,1,0,1,1,1,0,1]]\n",
    "total_heads = np.array(list(map(sum, trials)))\n",
    "total_tails = np.array(list(map(lambda x,y: len(x) - y, trials, total_heads)))\n",
    "p_EA = np.array([binom(10, 0.6).pmf(i) for i in total_heads])\n",
    "p_EB =  np.array([binom(10, 0.5).pmf(i) for i in total_heads])\n",
    "dd = np.vectorize({0: 'H',1: 'T'}.get)\n",
    "trials = dd(trials)\n",
    "n = trials.shape[0]\n",
    "flips = [\"\".join(trials[i]) for i in range(n)]\n",
    "pZ_AE = p_EA / (p_EA + p_EB )\n",
    "pZ_BE = p_EB  / (p_EA + p_EB )\n",
    "heads_due_to_A = pZ_AE * total_heads\n",
    "tails_due_to_A = pZ_AE * total_tails\n",
    "heads_due_to_B = pZ_BE * total_heads\n",
    "df = pd.DataFrame(np.column_stack((pZ_AE, pZ_BE, heads_due_to_A, heads_due_to_B)))\n",
    "df['flips'] = flips\n",
    "df.columns = ['probability it was coin A',\n",
    "'probability it was coin B',\n",
    "'# heads attributed to A',\n",
    "'# heads attributed to B', 'flips']"
   ]
  },
  {
   "cell_type": "code",
   "execution_count": 14,
   "metadata": {},
   "outputs": [
    {
     "data": {
      "text/html": [
       "<div>\n",
       "<style scoped>\n",
       "    .dataframe tbody tr th:only-of-type {\n",
       "        vertical-align: middle;\n",
       "    }\n",
       "\n",
       "    .dataframe tbody tr th {\n",
       "        vertical-align: top;\n",
       "    }\n",
       "\n",
       "    .dataframe thead th {\n",
       "        text-align: right;\n",
       "    }\n",
       "</style>\n",
       "<table border=\"1\" class=\"dataframe\">\n",
       "  <thead>\n",
       "    <tr style=\"text-align: right;\">\n",
       "      <th></th>\n",
       "      <th>probability it was coin A</th>\n",
       "      <th>probability it was coin B</th>\n",
       "      <th># heads attributed to A</th>\n",
       "      <th># heads attributed to B</th>\n",
       "      <th>flips</th>\n",
       "    </tr>\n",
       "  </thead>\n",
       "  <tbody>\n",
       "    <tr>\n",
       "      <th>0</th>\n",
       "      <td>0.45</td>\n",
       "      <td>0.55</td>\n",
       "      <td>2.25</td>\n",
       "      <td>2.75</td>\n",
       "      <td>THHHTTHTHT</td>\n",
       "    </tr>\n",
       "    <tr>\n",
       "      <th>1</th>\n",
       "      <td>0.80</td>\n",
       "      <td>0.20</td>\n",
       "      <td>7.24</td>\n",
       "      <td>1.76</td>\n",
       "      <td>TTTTHTTTTT</td>\n",
       "    </tr>\n",
       "    <tr>\n",
       "      <th>2</th>\n",
       "      <td>0.73</td>\n",
       "      <td>0.27</td>\n",
       "      <td>5.87</td>\n",
       "      <td>2.13</td>\n",
       "      <td>THTTTTTHTT</td>\n",
       "    </tr>\n",
       "    <tr>\n",
       "      <th>3</th>\n",
       "      <td>0.35</td>\n",
       "      <td>0.65</td>\n",
       "      <td>1.41</td>\n",
       "      <td>2.59</td>\n",
       "      <td>THTHHHTTHH</td>\n",
       "    </tr>\n",
       "    <tr>\n",
       "      <th>4</th>\n",
       "      <td>0.65</td>\n",
       "      <td>0.35</td>\n",
       "      <td>4.53</td>\n",
       "      <td>2.47</td>\n",
       "      <td>HTTTHTTTHT</td>\n",
       "    </tr>\n",
       "  </tbody>\n",
       "</table>\n",
       "</div>"
      ],
      "text/plain": [
       "   probability it was coin A  probability it was coin B  \\\n",
       "0                       0.45                       0.55   \n",
       "1                       0.80                       0.20   \n",
       "2                       0.73                       0.27   \n",
       "3                       0.35                       0.65   \n",
       "4                       0.65                       0.35   \n",
       "\n",
       "   # heads attributed to A  # heads attributed to B       flips  \n",
       "0                     2.25                     2.75  THHHTTHTHT  \n",
       "1                     7.24                     1.76  TTTTHTTTTT  \n",
       "2                     5.87                     2.13  THTTTTTHTT  \n",
       "3                     1.41                     2.59  THTHHHTTHH  \n",
       "4                     4.53                     2.47  HTTTHTTTHT  "
      ]
     },
     "execution_count": 14,
     "metadata": {},
     "output_type": "execute_result"
    }
   ],
   "source": [
    "\n",
    "df.round(2)"
   ]
  },
  {
   "cell_type": "markdown",
   "metadata": {},
   "source": [
    "## M-Step\n",
    "- Once we have estimate of number of heads attributed to each coin, we need to update the estimate. \n",
    "- To update the estimate, use expected number of heads divided by total number of trials, i.e \n",
    "\n",
    "$\\theta_A^1 = \\frac{2.25 + 7.24 + 5.87 + 1.41 + 4.53}{10 * (0.45 + 0.8 + 0.73 + 0.35 + 0.65)} = 0.71$\n",
    "\n",
    "$\\theta_B^1 = \\frac{2.75 + 1.76 + 2.13 + 2.59 + 2.47}{10 * (0.55 + 0.2 + 0.27 + 0.65 + 0.35)} = 0.58$\n",
    "\n",
    "- We are maximizing the likelihood of the flip counts we estimated in the E-step by assuming coin biases are matched up proportionally.  \n",
    "- With updated parameters, we can repeat E-step again.  \n",
    " \n",
    "To review, we took a problem of estimating coin biases that would be easy if we have complete data, that is, if we knew which coin was chosen, and made it tractable by iteratively: \n",
    " - Assuming we have the coin biases, computing expected number of heads and tails for each coin for the trials we see (E-step)\n",
    " - Given these counts of heads and tails, providing improved guess at the coin biases by simply dividing the number of heads by total flips of each coin. \n",
    "\n",
    "### __EM in General__\n",
    "\n",
    "More Generally, EM algorithm helps us estimate parameters of probability distribution where: \n",
    "- We are given samples from distribution where some of the variables are missing\n",
    "- if we had access to these missing values, estimating the parameters would be easy\n",
    "\n",
    "by iteratively: \n",
    "- Guessing the parameters of distribution and  using this to fill in values of the missing data (E-step)\n",
    "- with these estimates for missing data in hand, easily updating values  of our model"
   ]
  },
  {
   "cell_type": "code",
   "execution_count": 15,
   "metadata": {},
   "outputs": [
    {
     "data": {
      "text/plain": [
       "(0.71, 0.58)"
      ]
     },
     "execution_count": 15,
     "metadata": {},
     "output_type": "execute_result"
    }
   ],
   "source": [
    "(heads_due_to_A.sum() / (10*pZ_AE.sum())).round(2), (heads_due_to_B.sum() / (10*pZ_BE.sum())).round(2), "
   ]
  },
  {
   "cell_type": "code",
   "execution_count": 16,
   "metadata": {},
   "outputs": [
    {
     "data": {
      "text/plain": [
       "0.7130122354005162"
      ]
     },
     "execution_count": 16,
     "metadata": {},
     "output_type": "execute_result"
    }
   ],
   "source": [
    "heads_due_to_A.sum() / (heads_due_to_A.sum() + tails_due_to_A.sum())"
   ]
  },
  {
   "cell_type": "code",
   "execution_count": 17,
   "metadata": {},
   "outputs": [],
   "source": [
    "from marketlearn.learning.mixture.coin_mixture import CoinMixture\n",
    "from scipy.stats import bernoulli, binom\n",
    "trials = np.array([[1,0,0,0,1,1,0,1,0,1], [1,1,1,1,0,1,1,1,1,1], [1,0,1,1,1,1,1,0,1,1], [1,0,1,0,0,0,1,1,0,0],\n",
    "[0,1,1,1,0,1,1,1,0,1]])\n",
    "m = 100 # 100 tosses of each coin\n",
    "theta_A = 0.8\n",
    "theta_B = 0.1\n",
    "coin_A = bernoulli(theta_A)\n",
    "coin_B = bernoulli(theta_B)\n",
    "trials = np.vstack([coin_A.rvs(m), coin_A.rvs(m), coin_B.rvs(m), coin_A.rvs(m), coin_B.rvs(m)])"
   ]
  },
  {
   "cell_type": "code",
   "execution_count": 18,
   "metadata": {},
   "outputs": [],
   "source": [
    "cm = CoinMixture(n_coins=2, m_flips=m, max_iter=50);\n",
    "from numpy.random import sample\n",
    "#guess = np.concatenate(([0.5, 0.5], sample(2)))\n",
    "cm.fit(trials);"
   ]
  },
  {
   "cell_type": "code",
   "execution_count": 19,
   "metadata": {},
   "outputs": [
    {
     "data": {
      "text/html": [
       "<div>\n",
       "<style scoped>\n",
       "    .dataframe tbody tr th:only-of-type {\n",
       "        vertical-align: middle;\n",
       "    }\n",
       "\n",
       "    .dataframe tbody tr th {\n",
       "        vertical-align: top;\n",
       "    }\n",
       "\n",
       "    .dataframe thead th {\n",
       "        text-align: right;\n",
       "    }\n",
       "</style>\n",
       "<table border=\"1\" class=\"dataframe\">\n",
       "  <thead>\n",
       "    <tr style=\"text-align: right;\">\n",
       "      <th></th>\n",
       "      <th>p(z=0)</th>\n",
       "      <th>p(z=1)</th>\n",
       "      <th>thetaA</th>\n",
       "      <th>thetaB</th>\n",
       "    </tr>\n",
       "  </thead>\n",
       "  <tbody>\n",
       "    <tr>\n",
       "      <th>45</th>\n",
       "      <td>0.4</td>\n",
       "      <td>0.6</td>\n",
       "      <td>0.075</td>\n",
       "      <td>0.796667</td>\n",
       "    </tr>\n",
       "    <tr>\n",
       "      <th>46</th>\n",
       "      <td>0.4</td>\n",
       "      <td>0.6</td>\n",
       "      <td>0.075</td>\n",
       "      <td>0.796667</td>\n",
       "    </tr>\n",
       "    <tr>\n",
       "      <th>47</th>\n",
       "      <td>0.4</td>\n",
       "      <td>0.6</td>\n",
       "      <td>0.075</td>\n",
       "      <td>0.796667</td>\n",
       "    </tr>\n",
       "    <tr>\n",
       "      <th>48</th>\n",
       "      <td>0.4</td>\n",
       "      <td>0.6</td>\n",
       "      <td>0.075</td>\n",
       "      <td>0.796667</td>\n",
       "    </tr>\n",
       "    <tr>\n",
       "      <th>49</th>\n",
       "      <td>0.4</td>\n",
       "      <td>0.6</td>\n",
       "      <td>0.075</td>\n",
       "      <td>0.796667</td>\n",
       "    </tr>\n",
       "  </tbody>\n",
       "</table>\n",
       "</div>"
      ],
      "text/plain": [
       "    p(z=0)  p(z=1)  thetaA    thetaB\n",
       "45     0.4     0.6   0.075  0.796667\n",
       "46     0.4     0.6   0.075  0.796667\n",
       "47     0.4     0.6   0.075  0.796667\n",
       "48     0.4     0.6   0.075  0.796667\n",
       "49     0.4     0.6   0.075  0.796667"
      ]
     },
     "execution_count": 19,
     "metadata": {},
     "output_type": "execute_result"
    }
   ],
   "source": [
    "cm.theta.tail()"
   ]
  },
  {
   "cell_type": "code",
   "execution_count": 37,
   "metadata": {},
   "outputs": [
    {
     "data": {
      "text/plain": [
       "'ABCDEFGHIJKLMNOPQRSTUVWXYZ'"
      ]
     },
     "execution_count": 37,
     "metadata": {},
     "output_type": "execute_result"
    },
    {
     "data": {
      "text/plain": [
       "'p(z=0) p(z=1)'"
      ]
     },
     "execution_count": 37,
     "metadata": {},
     "output_type": "execute_result"
    },
    {
     "data": {
      "text/plain": [
       "'thetaA thetaB'"
      ]
     },
     "execution_count": 37,
     "metadata": {},
     "output_type": "execute_result"
    }
   ],
   "source": [
    "import string\n",
    "string.ascii_uppercase\n",
    "\" \".join((\"p(z={i})\".format(i=i) for i in range(2)))\n",
    "\" \".join((\"theta{i}\".format(i=i) for i in dict(zip(range(2), string.ascii_uppercase)).values()))"
   ]
  },
  {
   "cell_type": "code",
   "execution_count": 5,
   "metadata": {
    "tags": []
   },
   "outputs": [
    {
     "name": "stdout",
     "output_type": "stream",
     "text": [
      "2\n",
      "3\n",
      "3\n",
      "7\n"
     ]
    }
   ],
   "source": [
    "from itertools import chain\n",
    "for i in chain([2,3], [3,7]):\n",
    "    print(i)"
   ]
  },
  {
   "cell_type": "markdown",
   "metadata": {},
   "source": [
    "## Another example - Density Estimation\n",
    "- Lets conduct the following experiment: let there be 2 trials.  For first trial, draw 100 rvs thats Normally distributed with mean 1, variance 1.  For 2nd trial, draw another 100 rvs thats normally distributed with mean 10, and variance 1.  \n",
    "- Append the 200 observations into a single array.  Call this new array x.  Question: What is the distribution of x?  \n",
    "- We know its a mixture of two normally distributed normal rvs.  But we cant fit loglikelihood of a single normally distributed rv\n",
    "- if we know the label where ith observation belongs to, then we can, for ex: "
   ]
  },
  {
   "cell_type": "code",
   "execution_count": 20,
   "metadata": {
    "tags": []
   },
   "outputs": [
    {
     "data": {
      "image/png": "[encoded data removed]",
      "image/svg+xml": "<?xml version=\"1.0\" encoding=\"utf-8\" standalone=\"no\"?>\n<!DOCTYPE svg PUBLIC \"-//W3C//DTD SVG 1.1//EN\"\n  \"http://www.w3.org/Graphics/SVG/1.1/DTD/svg11.dtd\">\n<!-- Created with matplotlib (https://matplotlib.org/) -->\n<svg height=\"194.744844pt\" version=\"1.1\" viewBox=\"0 0 707.114 194.744844\" width=\"707.114pt\" xmlns=\"http://www.w3.org/2000/svg\" xmlns:xlink=\"http://www.w3.org/1999/xlink\">\n <defs>\n  <style type=\"text/css\">\n*{stroke-linecap:butt;stroke-linejoin:round;}\n  </style>\n </defs>\n <g id=\"figure_1\">\n  <g id=\"patch_1\">\n   <path d=\"M 0 194.744844 \nL 707.114 194.744844 \nL 707.114 0 \nL 0 0 \nz\n\" style=\"fill:#1d2021;\"/>\n  </g>\n  <g id=\"axes_1\">\n   <g id=\"patch_2\">\n    <path d=\"M 30.314 170.28 \nL 699.914 170.28 \nL 699.914 7.2 \nL 30.314 7.2 \nz\n\" style=\"fill:#282828;\"/>\n   </g>\n   <g id=\"patch_3\">\n    <path clip-path=\"url(#p1e5353b378)\" d=\"M 109.891733 170.28 \nL 131.028967 170.28 \nL 131.028967 157.985869 \nL 109.891733 157.985869 \nz\n\" style=\"fill:#008000;opacity:0.4;\"/>\n   </g>\n   <g id=\"patch_4\">\n    <path clip-path=\"url(#p1e5353b378)\" d=\"M 131.028967 170.28 \nL 152.166201 170.28 \nL 152.166201 121.103476 \nL 131.028967 121.103476 \nz\n\" style=\"fill:#008000;opacity:0.4;\"/>\n   </g>\n   <g id=\"patch_5\">\n    <path clip-path=\"url(#p1e5353b378)\" d=\"M 152.166201 170.28 \nL 173.303435 170.28 \nL 173.303435 71.926952 \nL 152.166201 71.926952 \nz\n\" style=\"fill:#008000;opacity:0.4;\"/>\n   </g>\n   <g id=\"patch_6\">\n    <path clip-path=\"url(#p1e5353b378)\" d=\"M 173.303435 170.28 \nL 194.440669 170.28 \nL 194.440669 53.485755 \nL 173.303435 53.485755 \nz\n\" style=\"fill:#008000;opacity:0.4;\"/>\n   </g>\n   <g id=\"patch_7\">\n    <path clip-path=\"url(#p1e5353b378)\" d=\"M 194.440669 170.28 \nL 215.577903 170.28 \nL 215.577903 41.191624 \nL 194.440669 41.191624 \nz\n\" style=\"fill:#008000;opacity:0.4;\"/>\n   </g>\n   <g id=\"patch_8\">\n    <path clip-path=\"url(#p1e5353b378)\" d=\"M 215.577903 170.28 \nL 236.715137 170.28 \nL 236.715137 84.221083 \nL 215.577903 84.221083 \nz\n\" style=\"fill:#008000;opacity:0.4;\"/>\n   </g>\n   <g id=\"patch_9\">\n    <path clip-path=\"url(#p1e5353b378)\" d=\"M 236.715137 170.28 \nL 257.852371 170.28 \nL 257.852371 102.662279 \nL 236.715137 102.662279 \nz\n\" style=\"fill:#008000;opacity:0.4;\"/>\n   </g>\n   <g id=\"patch_10\">\n    <path clip-path=\"url(#p1e5353b378)\" d=\"M 257.852371 170.28 \nL 278.989604 170.28 \nL 278.989604 133.397607 \nL 257.852371 133.397607 \nz\n\" style=\"fill:#008000;opacity:0.4;\"/>\n   </g>\n   <g id=\"patch_11\">\n    <path clip-path=\"url(#p1e5353b378)\" d=\"M 278.989604 170.28 \nL 300.126838 170.28 \nL 300.126838 151.838803 \nL 278.989604 151.838803 \nz\n\" style=\"fill:#008000;opacity:0.4;\"/>\n   </g>\n   <g id=\"patch_12\">\n    <path clip-path=\"url(#p1e5353b378)\" d=\"M 445.005264 170.28 \nL 465.08305 170.28 \nL 465.08305 131.451429 \nL 445.005264 131.451429 \nz\n\" style=\"fill:#ffa500;opacity:0.4;\"/>\n   </g>\n   <g id=\"patch_13\">\n    <path clip-path=\"url(#p1e5353b378)\" d=\"M 465.08305 170.28 \nL 485.160837 170.28 \nL 485.160837 60.265714 \nL 465.08305 60.265714 \nz\n\" style=\"fill:#ffa500;opacity:0.4;\"/>\n   </g>\n   <g id=\"patch_14\">\n    <path clip-path=\"url(#p1e5353b378)\" d=\"M 485.160837 170.28 \nL 505.238624 170.28 \nL 505.238624 34.38 \nL 485.160837 34.38 \nz\n\" style=\"fill:#ffa500;opacity:0.4;\"/>\n   </g>\n   <g id=\"patch_15\">\n    <path clip-path=\"url(#p1e5353b378)\" d=\"M 505.238624 170.28 \nL 525.31641 170.28 \nL 525.31641 14.965714 \nL 505.238624 14.965714 \nz\n\" style=\"fill:#ffa500;opacity:0.4;\"/>\n   </g>\n   <g id=\"patch_16\">\n    <path clip-path=\"url(#p1e5353b378)\" d=\"M 525.31641 170.28 \nL 545.394197 170.28 \nL 545.394197 79.68 \nL 525.31641 79.68 \nz\n\" style=\"fill:#ffa500;opacity:0.4;\"/>\n   </g>\n   <g id=\"patch_17\">\n    <path clip-path=\"url(#p1e5353b378)\" d=\"M 545.394197 170.28 \nL 565.471983 170.28 \nL 565.471983 99.094286 \nL 545.394197 99.094286 \nz\n\" style=\"fill:#ffa500;opacity:0.4;\"/>\n   </g>\n   <g id=\"patch_18\">\n    <path clip-path=\"url(#p1e5353b378)\" d=\"M 565.471983 170.28 \nL 585.54977 170.28 \nL 585.54977 150.865714 \nL 565.471983 150.865714 \nz\n\" style=\"fill:#ffa500;opacity:0.4;\"/>\n   </g>\n   <g id=\"patch_19\">\n    <path clip-path=\"url(#p1e5353b378)\" d=\"M 585.54977 170.28 \nL 605.627556 170.28 \nL 605.627556 150.865714 \nL 585.54977 150.865714 \nz\n\" style=\"fill:#ffa500;opacity:0.4;\"/>\n   </g>\n   <g id=\"patch_20\">\n    <path clip-path=\"url(#p1e5353b378)\" d=\"M 605.627556 170.28 \nL 625.705343 170.28 \nL 625.705343 163.808571 \nL 605.627556 163.808571 \nz\n\" style=\"fill:#ffa500;opacity:0.4;\"/>\n   </g>\n   <g id=\"matplotlib.axis_1\">\n    <g id=\"xtick_1\">\n     <g id=\"line2d_1\">\n      <path clip-path=\"url(#p1e5353b378)\" d=\"M 75.513027 170.28 \nL 75.513027 7.2 \n\" style=\"fill:none;stroke:#3c3836;stroke-linecap:square;stroke-width:1.12;\"/>\n     </g>\n     <g id=\"line2d_2\"/>\n     <g id=\"text_1\">\n      <!-- −2.5 -->\n      <defs>\n       <path d=\"M 55.421875 29.59375 \nL 55.421875 21.390625 \nL 4.5 21.390625 \nL 4.5 29.59375 \nz\n\" id=\"Helvetica-8722\"/>\n       <path d=\"M 3.125 0 \nQ 3.609375 9.03125 6.859375 15.71875 \nQ 10.109375 22.40625 19.53125 27.875 \nL 28.90625 33.296875 \nQ 35.203125 36.96875 37.75 39.546875 \nQ 41.75 43.609375 41.75 48.828125 \nQ 41.75 54.9375 38.078125 58.515625 \nQ 34.421875 62.109375 28.328125 62.109375 \nQ 19.28125 62.109375 15.828125 55.28125 \nQ 13.96875 51.609375 13.765625 45.125 \nL 4.828125 45.125 \nQ 4.984375 54.25 8.203125 60.015625 \nQ 13.921875 70.171875 28.375 70.171875 \nQ 40.375 70.171875 45.921875 63.671875 \nQ 51.46875 57.171875 51.46875 49.21875 \nQ 51.46875 40.828125 45.5625 34.859375 \nQ 42.140625 31.390625 33.296875 26.46875 \nL 26.609375 22.75 \nQ 21.828125 20.125 19.09375 17.71875 \nQ 14.203125 13.484375 12.9375 8.296875 \nL 51.125 8.296875 \nL 51.125 0 \nL 3.125 0 \nz\n\" id=\"Helvetica-50\"/>\n       <path d=\"M 8.546875 10.640625 \nL 18.75 10.640625 \nL 18.75 0 \nL 8.546875 0 \nz\n\" id=\"Helvetica-46\"/>\n       <path d=\"M 12.359375 17.828125 \nQ 13.234375 10.296875 19.34375 7.421875 \nQ 22.46875 5.953125 26.5625 5.953125 \nQ 34.375 5.953125 38.125 10.9375 \nQ 41.890625 15.921875 41.890625 21.96875 \nQ 41.890625 29.296875 37.421875 33.296875 \nQ 32.953125 37.3125 26.703125 37.3125 \nQ 22.171875 37.3125 18.921875 35.546875 \nQ 15.671875 33.796875 13.375 30.671875 \nL 5.765625 31.109375 \nL 11.078125 68.75 \nL 47.40625 68.75 \nL 47.40625 60.25 \nL 17.671875 60.25 \nL 14.703125 40.828125 \nQ 17.140625 42.671875 19.34375 43.609375 \nQ 23.25 45.21875 28.375 45.21875 \nQ 37.984375 45.21875 44.671875 39.015625 \nQ 51.375 32.8125 51.375 23.296875 \nQ 51.375 13.375 45.234375 5.796875 \nQ 39.109375 -1.765625 25.6875 -1.765625 \nQ 17.140625 -1.765625 10.5625 3.046875 \nQ 4 7.859375 3.21875 17.828125 \nz\n\" id=\"Helvetica-53\"/>\n      </defs>\n      <g style=\"fill:#d5c4a1;\" transform=\"translate(63.076434 184.918531)scale(0.126 -0.126)\">\n       <use xlink:href=\"#Helvetica-8722\"/>\n       <use x=\"58.398438\" xlink:href=\"#Helvetica-50\"/>\n       <use x=\"114.013672\" xlink:href=\"#Helvetica-46\"/>\n       <use x=\"141.796875\" xlink:href=\"#Helvetica-53\"/>\n      </g>\n     </g>\n    </g>\n    <g id=\"xtick_2\">\n     <g id=\"line2d_3\">\n      <path clip-path=\"url(#p1e5353b378)\" d=\"M 162.158595 170.28 \nL 162.158595 7.2 \n\" style=\"fill:none;stroke:#3c3836;stroke-linecap:square;stroke-width:1.12;\"/>\n     </g>\n     <g id=\"line2d_4\"/>\n     <g id=\"text_2\">\n      <!-- 0.0 -->\n      <defs>\n       <path d=\"M 27.046875 69.921875 \nQ 40.625 69.921875 46.6875 58.734375 \nQ 51.375 50.09375 51.375 35.0625 \nQ 51.375 20.796875 47.125 11.46875 \nQ 40.96875 -1.90625 27 -1.90625 \nQ 14.40625 -1.90625 8.25 9.03125 \nQ 3.125 18.171875 3.125 33.546875 \nQ 3.125 45.453125 6.203125 54 \nQ 11.96875 69.921875 27.046875 69.921875 \nz\nM 26.953125 6.109375 \nQ 33.796875 6.109375 37.84375 12.15625 \nQ 41.890625 18.21875 41.890625 34.71875 \nQ 41.890625 46.625 38.953125 54.3125 \nQ 36.03125 62.015625 27.59375 62.015625 \nQ 19.828125 62.015625 16.234375 54.703125 \nQ 12.640625 47.40625 12.640625 33.203125 \nQ 12.640625 22.515625 14.9375 16.015625 \nQ 18.453125 6.109375 26.953125 6.109375 \nz\n\" id=\"Helvetica-48\"/>\n      </defs>\n      <g style=\"fill:#d5c4a1;\" transform=\"translate(153.401595 184.918531)scale(0.126 -0.126)\">\n       <use xlink:href=\"#Helvetica-48\"/>\n       <use x=\"55.615234\" xlink:href=\"#Helvetica-46\"/>\n       <use x=\"83.398438\" xlink:href=\"#Helvetica-48\"/>\n      </g>\n     </g>\n    </g>\n    <g id=\"xtick_3\">\n     <g id=\"line2d_5\">\n      <path clip-path=\"url(#p1e5353b378)\" d=\"M 248.804163 170.28 \nL 248.804163 7.2 \n\" style=\"fill:none;stroke:#3c3836;stroke-linecap:square;stroke-width:1.12;\"/>\n     </g>\n     <g id=\"line2d_6\"/>\n     <g id=\"text_3\">\n      <!-- 2.5 -->\n      <g style=\"fill:#d5c4a1;\" transform=\"translate(240.047163 184.918531)scale(0.126 -0.126)\">\n       <use xlink:href=\"#Helvetica-50\"/>\n       <use x=\"55.615234\" xlink:href=\"#Helvetica-46\"/>\n       <use x=\"83.398438\" xlink:href=\"#Helvetica-53\"/>\n      </g>\n     </g>\n    </g>\n    <g id=\"xtick_4\">\n     <g id=\"line2d_7\">\n      <path clip-path=\"url(#p1e5353b378)\" d=\"M 335.449731 170.28 \nL 335.449731 7.2 \n\" style=\"fill:none;stroke:#3c3836;stroke-linecap:square;stroke-width:1.12;\"/>\n     </g>\n     <g id=\"line2d_8\"/>\n     <g id=\"text_4\">\n      <!-- 5.0 -->\n      <g style=\"fill:#d5c4a1;\" transform=\"translate(326.692731 184.918531)scale(0.126 -0.126)\">\n       <use xlink:href=\"#Helvetica-53\"/>\n       <use x=\"55.615234\" xlink:href=\"#Helvetica-46\"/>\n       <use x=\"83.398438\" xlink:href=\"#Helvetica-48\"/>\n      </g>\n     </g>\n    </g>\n    <g id=\"xtick_5\">\n     <g id=\"line2d_9\">\n      <path clip-path=\"url(#p1e5353b378)\" d=\"M 422.095298 170.28 \nL 422.095298 7.2 \n\" style=\"fill:none;stroke:#3c3836;stroke-linecap:square;stroke-width:1.12;\"/>\n     </g>\n     <g id=\"line2d_10\"/>\n     <g id=\"text_5\">\n      <!-- 7.5 -->\n      <defs>\n       <path d=\"M 52.296875 68.75 \nL 52.296875 61.078125 \nQ 48.921875 57.8125 43.328125 49.703125 \nQ 37.75 41.609375 33.453125 32.234375 \nQ 29.203125 23.09375 27 15.578125 \nQ 25.59375 10.75 23.34375 0 \nL 13.625 0 \nQ 16.9375 20.015625 28.265625 39.84375 \nQ 34.96875 51.46875 42.328125 59.90625 \nL 3.65625 59.90625 \nL 3.65625 68.75 \nz\n\" id=\"Helvetica-55\"/>\n      </defs>\n      <g style=\"fill:#d5c4a1;\" transform=\"translate(413.338298 184.918531)scale(0.126 -0.126)\">\n       <use xlink:href=\"#Helvetica-55\"/>\n       <use x=\"55.615234\" xlink:href=\"#Helvetica-46\"/>\n       <use x=\"83.398438\" xlink:href=\"#Helvetica-53\"/>\n      </g>\n     </g>\n    </g>\n    <g id=\"xtick_6\">\n     <g id=\"line2d_11\">\n      <path clip-path=\"url(#p1e5353b378)\" d=\"M 508.740866 170.28 \nL 508.740866 7.2 \n\" style=\"fill:none;stroke:#3c3836;stroke-linecap:square;stroke-width:1.12;\"/>\n     </g>\n     <g id=\"line2d_12\"/>\n     <g id=\"text_6\">\n      <!-- 10.0 -->\n      <defs>\n       <path d=\"M 9.578125 49.515625 \nL 9.578125 56.25 \nQ 19.09375 57.171875 22.84375 59.34375 \nQ 26.609375 61.53125 28.46875 69.625 \nL 35.40625 69.625 \nL 35.40625 0 \nL 26.03125 0 \nL 26.03125 49.515625 \nz\n\" id=\"Helvetica-49\"/>\n      </defs>\n      <g style=\"fill:#d5c4a1;\" transform=\"translate(496.480476 184.918531)scale(0.126 -0.126)\">\n       <use xlink:href=\"#Helvetica-49\"/>\n       <use x=\"55.615234\" xlink:href=\"#Helvetica-48\"/>\n       <use x=\"111.230469\" xlink:href=\"#Helvetica-46\"/>\n       <use x=\"139.013672\" xlink:href=\"#Helvetica-48\"/>\n      </g>\n     </g>\n    </g>\n    <g id=\"xtick_7\">\n     <g id=\"line2d_13\">\n      <path clip-path=\"url(#p1e5353b378)\" d=\"M 595.386434 170.28 \nL 595.386434 7.2 \n\" style=\"fill:none;stroke:#3c3836;stroke-linecap:square;stroke-width:1.12;\"/>\n     </g>\n     <g id=\"line2d_14\"/>\n     <g id=\"text_7\">\n      <!-- 12.5 -->\n      <g style=\"fill:#d5c4a1;\" transform=\"translate(583.126043 184.918531)scale(0.126 -0.126)\">\n       <use xlink:href=\"#Helvetica-49\"/>\n       <use x=\"55.615234\" xlink:href=\"#Helvetica-50\"/>\n       <use x=\"111.230469\" xlink:href=\"#Helvetica-46\"/>\n       <use x=\"139.013672\" xlink:href=\"#Helvetica-53\"/>\n      </g>\n     </g>\n    </g>\n    <g id=\"xtick_8\">\n     <g id=\"line2d_15\">\n      <path clip-path=\"url(#p1e5353b378)\" d=\"M 682.032002 170.28 \nL 682.032002 7.2 \n\" style=\"fill:none;stroke:#3c3836;stroke-linecap:square;stroke-width:1.12;\"/>\n     </g>\n     <g id=\"line2d_16\"/>\n     <g id=\"text_8\">\n      <!-- 15.0 -->\n      <g style=\"fill:#d5c4a1;\" transform=\"translate(669.771611 184.918531)scale(0.126 -0.126)\">\n       <use xlink:href=\"#Helvetica-49\"/>\n       <use x=\"55.615234\" xlink:href=\"#Helvetica-53\"/>\n       <use x=\"111.230469\" xlink:href=\"#Helvetica-46\"/>\n       <use x=\"139.013672\" xlink:href=\"#Helvetica-48\"/>\n      </g>\n     </g>\n    </g>\n   </g>\n   <g id=\"matplotlib.axis_2\">\n    <g id=\"ytick_1\">\n     <g id=\"line2d_17\">\n      <path clip-path=\"url(#p1e5353b378)\" d=\"M 30.314 170.28 \nL 699.914 170.28 \n\" style=\"fill:none;stroke:#3c3836;stroke-linecap:square;stroke-width:1.12;\"/>\n     </g>\n     <g id=\"line2d_18\"/>\n     <g id=\"text_9\">\n      <!-- 0.0 -->\n      <g style=\"fill:#d5c4a1;\" transform=\"translate(7.2 174.799266)scale(0.126 -0.126)\">\n       <use xlink:href=\"#Helvetica-48\"/>\n       <use x=\"55.615234\" xlink:href=\"#Helvetica-46\"/>\n       <use x=\"83.398438\" xlink:href=\"#Helvetica-48\"/>\n      </g>\n     </g>\n    </g>\n    <g id=\"ytick_2\">\n     <g id=\"line2d_19\">\n      <path clip-path=\"url(#p1e5353b378)\" d=\"M 30.314 132.7905 \nL 699.914 132.7905 \n\" style=\"fill:none;stroke:#3c3836;stroke-linecap:square;stroke-width:1.12;\"/>\n     </g>\n     <g id=\"line2d_20\"/>\n     <g id=\"text_10\">\n      <!-- 0.1 -->\n      <g style=\"fill:#d5c4a1;\" transform=\"translate(7.2 137.309765)scale(0.126 -0.126)\">\n       <use xlink:href=\"#Helvetica-48\"/>\n       <use x=\"55.615234\" xlink:href=\"#Helvetica-46\"/>\n       <use x=\"83.398438\" xlink:href=\"#Helvetica-49\"/>\n      </g>\n     </g>\n    </g>\n    <g id=\"ytick_3\">\n     <g id=\"line2d_21\">\n      <path clip-path=\"url(#p1e5353b378)\" d=\"M 30.314 95.300999 \nL 699.914 95.300999 \n\" style=\"fill:none;stroke:#3c3836;stroke-linecap:square;stroke-width:1.12;\"/>\n     </g>\n     <g id=\"line2d_22\"/>\n     <g id=\"text_11\">\n      <!-- 0.2 -->\n      <g style=\"fill:#d5c4a1;\" transform=\"translate(7.2 99.820265)scale(0.126 -0.126)\">\n       <use xlink:href=\"#Helvetica-48\"/>\n       <use x=\"55.615234\" xlink:href=\"#Helvetica-46\"/>\n       <use x=\"83.398438\" xlink:href=\"#Helvetica-50\"/>\n      </g>\n     </g>\n    </g>\n    <g id=\"ytick_4\">\n     <g id=\"line2d_23\">\n      <path clip-path=\"url(#p1e5353b378)\" d=\"M 30.314 57.811499 \nL 699.914 57.811499 \n\" style=\"fill:none;stroke:#3c3836;stroke-linecap:square;stroke-width:1.12;\"/>\n     </g>\n     <g id=\"line2d_24\"/>\n     <g id=\"text_12\">\n      <!-- 0.3 -->\n      <defs>\n       <path d=\"M 25.984375 -1.90625 \nQ 13.578125 -1.90625 7.984375 4.90625 \nQ 2.390625 11.71875 2.390625 21.484375 \nL 11.578125 21.484375 \nQ 12.15625 14.703125 14.109375 11.625 \nQ 17.53125 6.109375 26.46875 6.109375 \nQ 33.40625 6.109375 37.59375 9.8125 \nQ 41.796875 13.53125 41.796875 19.390625 \nQ 41.796875 26.609375 37.375 29.484375 \nQ 32.953125 32.375 25.09375 32.375 \nQ 24.21875 32.375 23.3125 32.34375 \nQ 22.40625 32.328125 21.484375 32.28125 \nL 21.484375 40.046875 \nQ 22.859375 39.890625 23.78125 39.84375 \nQ 24.703125 39.796875 25.78125 39.796875 \nQ 30.71875 39.796875 33.890625 41.359375 \nQ 39.453125 44.09375 39.453125 51.125 \nQ 39.453125 56.34375 35.734375 59.171875 \nQ 32.03125 62.015625 27.09375 62.015625 \nQ 18.3125 62.015625 14.9375 56.15625 \nQ 13.09375 52.9375 12.84375 46.96875 \nL 4.15625 46.96875 \nQ 4.15625 54.78125 7.28125 60.25 \nQ 12.640625 70.015625 26.171875 70.015625 \nQ 36.859375 70.015625 42.71875 65.25 \nQ 48.578125 60.5 48.578125 51.46875 \nQ 48.578125 45.015625 45.125 41.015625 \nQ 42.96875 38.53125 39.546875 37.109375 \nQ 45.0625 35.59375 48.15625 31.265625 \nQ 51.265625 26.953125 51.265625 20.703125 \nQ 51.265625 10.6875 44.671875 4.390625 \nQ 38.09375 -1.90625 25.984375 -1.90625 \nz\n\" id=\"Helvetica-51\"/>\n      </defs>\n      <g style=\"fill:#d5c4a1;\" transform=\"translate(7.2 62.330765)scale(0.126 -0.126)\">\n       <use xlink:href=\"#Helvetica-48\"/>\n       <use x=\"55.615234\" xlink:href=\"#Helvetica-46\"/>\n       <use x=\"83.398438\" xlink:href=\"#Helvetica-51\"/>\n      </g>\n     </g>\n    </g>\n    <g id=\"ytick_5\">\n     <g id=\"line2d_25\">\n      <path clip-path=\"url(#p1e5353b378)\" d=\"M 30.314 20.321999 \nL 699.914 20.321999 \n\" style=\"fill:none;stroke:#3c3836;stroke-linecap:square;stroke-width:1.12;\"/>\n     </g>\n     <g id=\"line2d_26\"/>\n     <g id=\"text_13\">\n      <!-- 0.4 -->\n      <defs>\n       <path d=\"M 33.0625 24.75 \nL 33.0625 56.453125 \nL 10.640625 24.75 \nz\nM 33.203125 0 \nL 33.203125 17.09375 \nL 2.546875 17.09375 \nL 2.546875 25.6875 \nL 34.578125 70.125 \nL 42 70.125 \nL 42 24.75 \nL 52.296875 24.75 \nL 52.296875 17.09375 \nL 42 17.09375 \nL 42 0 \nz\n\" id=\"Helvetica-52\"/>\n      </defs>\n      <g style=\"fill:#d5c4a1;\" transform=\"translate(7.2 24.841265)scale(0.126 -0.126)\">\n       <use xlink:href=\"#Helvetica-48\"/>\n       <use x=\"55.615234\" xlink:href=\"#Helvetica-46\"/>\n       <use x=\"83.398438\" xlink:href=\"#Helvetica-52\"/>\n      </g>\n     </g>\n    </g>\n   </g>\n   <g id=\"line2d_27\">\n    <path clip-path=\"url(#p1e5353b378)\" d=\"M 60.750364 170.205387 \nL 69.83754 170.051147 \nL 76.652922 169.68279 \nL 81.19651 169.229713 \nL 85.740098 168.546912 \nL 90.283686 167.587858 \nL 94.827274 166.321491 \nL 99.370862 164.728947 \nL 103.914451 162.786472 \nL 108.458039 160.439734 \nL 110.729833 159.084033 \nL 113.001627 157.583471 \nL 115.273421 155.917078 \nL 117.545215 154.062409 \nL 119.817009 151.997064 \nL 122.088803 149.700382 \nL 124.360597 147.155101 \nL 126.632391 144.348809 \nL 128.904185 141.275016 \nL 131.175979 137.933772 \nL 133.447773 134.331829 \nL 135.719567 130.482435 \nL 140.263155 122.123862 \nL 144.806744 113.074821 \nL 158.437508 84.976855 \nL 162.981096 76.571898 \nL 165.25289 72.757681 \nL 167.524684 69.245577 \nL 169.796478 66.055436 \nL 172.068272 63.195882 \nL 174.340066 60.664631 \nL 176.61186 58.450026 \nL 178.883654 56.533678 \nL 181.155448 54.893933 \nL 183.427242 53.509711 \nL 185.699036 52.36419 \nL 187.97083 51.447766 \nL 190.242625 50.759852 \nL 192.514419 50.309208 \nL 194.786213 50.112763 \nL 197.058007 50.193085 \nL 199.329801 50.574907 \nL 201.601595 51.281231 \nL 203.873389 52.329581 \nL 206.145183 53.728926 \nL 208.416977 55.477649 \nL 210.688771 57.562757 \nL 212.960565 59.96033 \nL 215.232359 62.63703 \nL 217.504153 65.552381 \nL 222.047741 71.917763 \nL 228.863123 82.132011 \nL 235.678506 92.302097 \nL 240.222094 98.79909 \nL 247.037476 108.057432 \nL 253.852858 116.865918 \nL 260.66824 125.362324 \nL 267.483622 133.495141 \nL 272.02721 138.598908 \nL 276.570798 143.344665 \nL 281.114387 147.661213 \nL 285.657975 151.513251 \nL 290.201563 154.904789 \nL 294.745151 157.868567 \nL 299.288739 160.44774 \nL 303.832327 162.678828 \nL 308.375915 164.583206 \nL 312.919503 166.169434 \nL 317.463091 167.443217 \nL 322.006679 168.418592 \nL 326.550268 169.124457 \nL 331.093856 169.60387 \nL 337.909238 170.009084 \nL 344.72462 170.175992 \nL 349.268208 170.207877 \nL 349.268208 170.207877 \n\" style=\"fill:none;stroke:#008000;stroke-linecap:square;stroke-width:1.2;\"/>\n   </g>\n   <g id=\"line2d_28\">\n    <path clip-path=\"url(#p1e5353b378)\" d=\"M 401.23297 170.125485 \nL 405.457296 169.972177 \nL 409.681621 169.634833 \nL 413.905947 168.997561 \nL 416.018109 168.519311 \nL 418.130272 167.90648 \nL 420.242435 167.137892 \nL 422.354598 166.193972 \nL 424.46676 165.058177 \nL 426.578923 163.718277 \nL 428.691086 162.167224 \nL 430.803248 160.403425 \nL 432.915411 158.430236 \nL 435.027574 156.254647 \nL 437.139737 153.885262 \nL 439.251899 151.329815 \nL 441.364062 148.592628 \nL 443.476225 145.67248 \nL 445.588388 142.561338 \nL 447.70055 139.244345 \nL 449.812713 135.701231 \nL 451.924876 131.909098 \nL 454.037038 127.846251 \nL 456.149201 123.496557 \nL 458.261364 118.853626 \nL 462.485689 108.729806 \nL 466.710015 97.707095 \nL 477.270828 69.259024 \nL 481.495154 58.795108 \nL 483.607317 53.942856 \nL 485.719479 49.386374 \nL 487.831642 45.155607 \nL 489.943805 41.282489 \nL 492.055967 37.80314 \nL 494.16813 34.758764 \nL 496.280293 32.194933 \nL 498.392456 30.159207 \nL 500.504618 28.697303 \nL 502.616781 27.848314 \nL 504.728944 27.63961 \nL 506.841107 28.082192 \nL 508.953269 29.167239 \nL 511.065432 30.864442 \nL 513.177595 33.122514 \nL 515.289757 35.871923 \nL 517.40192 39.029606 \nL 519.514083 42.505085 \nL 523.738408 50.050726 \nL 532.187059 65.597588 \nL 538.523547 76.703022 \nL 557.533012 109.369215 \nL 563.8695 120.289792 \nL 568.093826 127.194268 \nL 572.318151 133.52931 \nL 574.430314 136.420434 \nL 576.542476 139.105118 \nL 578.654639 141.576812 \nL 580.766802 143.83796 \nL 582.878965 145.899666 \nL 584.991127 147.780351 \nL 589.215453 151.094997 \nL 593.439778 153.979123 \nL 597.664104 156.57693 \nL 601.888429 158.928169 \nL 606.112755 160.980336 \nL 610.33708 162.653182 \nL 614.561406 163.913327 \nL 618.785731 164.814304 \nL 625.122219 165.775851 \nL 635.683033 167.320062 \nL 646.243846 168.934431 \nL 652.580335 169.611691 \nL 658.916823 169.997677 \nL 665.253311 170.154163 \nL 669.477636 170.156964 \nL 669.477636 170.156964 \n\" style=\"fill:none;stroke:#ffa500;stroke-linecap:square;stroke-width:1.2;\"/>\n   </g>\n   <g id=\"patch_21\">\n    <path d=\"M 30.314 170.28 \nL 30.314 7.2 \n\" style=\"fill:none;stroke:#d5c4a1;stroke-linecap:square;stroke-linejoin:miter;stroke-width:1.12;\"/>\n   </g>\n   <g id=\"patch_22\">\n    <path d=\"M 699.914 170.28 \nL 699.914 7.2 \n\" style=\"fill:none;stroke:#d5c4a1;stroke-linecap:square;stroke-linejoin:miter;stroke-width:1.12;\"/>\n   </g>\n   <g id=\"patch_23\">\n    <path d=\"M 30.314 170.28 \nL 699.914 170.28 \n\" style=\"fill:none;stroke:#d5c4a1;stroke-linecap:square;stroke-linejoin:miter;stroke-width:1.12;\"/>\n   </g>\n   <g id=\"patch_24\">\n    <path d=\"M 30.314 7.2 \nL 699.914 7.2 \n\" style=\"fill:none;stroke:#d5c4a1;stroke-linecap:square;stroke-linejoin:miter;stroke-width:1.12;\"/>\n   </g>\n  </g>\n </g>\n <defs>\n  <clipPath id=\"p1e5353b378\">\n   <rect height=\"163.08\" width=\"669.6\" x=\"30.314\" y=\"7.2\"/>\n  </clipPath>\n </defs>\n</svg>\n",
      "text/plain": [
       "<Figure size 864x216 with 1 Axes>"
      ]
     },
     "metadata": {},
     "output_type": "display_data"
    }
   ],
   "source": [
    "import seaborn as sns\n",
    "import matplotlib.pyplot as plt\n",
    "N = 100\n",
    "mu_arr = np.array([1, 10])\n",
    "sigma_arr = np.array([1, 1])\n",
    "xs = np.append(np.random.normal(mu_arr[0], sigma_arr[0], N), \n",
    "              np.random.normal(mu_arr[1], sigma_arr[1], N))\n",
    "fig, ax = plt.subplots(figsize=(12,3))\n",
    "\n",
    "# i know first 100 is from mu1 and next 100 from mu2\n",
    "sns.distplot(xs[:N], color='green');\n",
    "sns.distplot(xs[N:], color='orange');"
   ]
  },
  {
   "cell_type": "code",
   "execution_count": 21,
   "metadata": {},
   "outputs": [
    {
     "data": {
      "text/plain": [
       "<matplotlib.axes._subplots.AxesSubplot at 0x7ff6c9d95dd8>"
      ]
     },
     "execution_count": 21,
     "metadata": {},
     "output_type": "execute_result"
    },
    {
     "data": {
      "image/png": "[encoded data removed]",
      "image/svg+xml": "<?xml version=\"1.0\" encoding=\"utf-8\" standalone=\"no\"?>\n<!DOCTYPE svg PUBLIC \"-//W3C//DTD SVG 1.1//EN\"\n  \"http://www.w3.org/Graphics/SVG/1.1/DTD/svg11.dtd\">\n<!-- Created with matplotlib (https://matplotlib.org/) -->\n<svg height=\"336.080844pt\" version=\"1.1\" viewBox=\"0 0 401.640781 336.080844\" width=\"401.640781pt\" xmlns=\"http://www.w3.org/2000/svg\" xmlns:xlink=\"http://www.w3.org/1999/xlink\">\n <defs>\n  <style type=\"text/css\">\n*{stroke-linecap:butt;stroke-linejoin:round;}\n  </style>\n </defs>\n <g id=\"figure_1\">\n  <g id=\"patch_1\">\n   <path d=\"M 0 336.080844 \nL 401.640781 336.080844 \nL 401.640781 0 \nL 0 0 \nz\n\" style=\"fill:#1d2021;\"/>\n  </g>\n  <g id=\"axes_1\">\n   <g id=\"patch_2\">\n    <path d=\"M 37.320781 311.616 \nL 394.440781 311.616 \nL 394.440781 7.2 \nL 37.320781 7.2 \nz\n\" style=\"fill:#282828;\"/>\n   </g>\n   <g id=\"patch_3\">\n    <path clip-path=\"url(#p45ad32240f)\" d=\"M 119.692491 311.616 \nL 158.167807 311.616 \nL 158.167807 21.696 \nL 119.692491 21.696 \nz\n\" style=\"fill:#ff0000;opacity:0.4;\"/>\n   </g>\n   <g id=\"patch_4\">\n    <path clip-path=\"url(#p45ad32240f)\" d=\"M 158.167807 311.616 \nL 196.643123 311.616 \nL 196.643123 155.505231 \nL 158.167807 155.505231 \nz\n\" style=\"fill:#ff0000;opacity:0.4;\"/>\n   </g>\n   <g id=\"patch_5\">\n    <path clip-path=\"url(#p45ad32240f)\" d=\"M 196.643123 311.616 \nL 235.118439 311.616 \nL 235.118439 311.616 \nL 196.643123 311.616 \nz\n\" style=\"fill:#ff0000;opacity:0.4;\"/>\n   </g>\n   <g id=\"patch_6\">\n    <path clip-path=\"url(#p45ad32240f)\" d=\"M 235.118439 311.616 \nL 273.593755 311.616 \nL 273.593755 21.696 \nL 235.118439 21.696 \nz\n\" style=\"fill:#ff0000;opacity:0.4;\"/>\n   </g>\n   <g id=\"patch_7\">\n    <path clip-path=\"url(#p45ad32240f)\" d=\"M 273.593755 311.616 \nL 312.069071 311.616 \nL 312.069071 155.505231 \nL 273.593755 155.505231 \nz\n\" style=\"fill:#ff0000;opacity:0.4;\"/>\n   </g>\n   <g id=\"matplotlib.axis_1\">\n    <g id=\"xtick_1\">\n     <g id=\"line2d_1\">\n      <path clip-path=\"url(#p45ad32240f)\" d=\"M 74.555575 311.616 \nL 74.555575 7.2 \n\" style=\"fill:none;stroke:#3c3836;stroke-linecap:square;stroke-width:1.12;\"/>\n     </g>\n     <g id=\"line2d_2\"/>\n     <g id=\"text_1\">\n      <!-- −5 -->\n      <defs>\n       <path d=\"M 55.421875 29.59375 \nL 55.421875 21.390625 \nL 4.5 21.390625 \nL 4.5 29.59375 \nz\n\" id=\"Helvetica-8722\"/>\n       <path d=\"M 12.359375 17.828125 \nQ 13.234375 10.296875 19.34375 7.421875 \nQ 22.46875 5.953125 26.5625 5.953125 \nQ 34.375 5.953125 38.125 10.9375 \nQ 41.890625 15.921875 41.890625 21.96875 \nQ 41.890625 29.296875 37.421875 33.296875 \nQ 32.953125 37.3125 26.703125 37.3125 \nQ 22.171875 37.3125 18.921875 35.546875 \nQ 15.671875 33.796875 13.375 30.671875 \nL 5.765625 31.109375 \nL 11.078125 68.75 \nL 47.40625 68.75 \nL 47.40625 60.25 \nL 17.671875 60.25 \nL 14.703125 40.828125 \nQ 17.140625 42.671875 19.34375 43.609375 \nQ 23.25 45.21875 28.375 45.21875 \nQ 37.984375 45.21875 44.671875 39.015625 \nQ 51.375 32.8125 51.375 23.296875 \nQ 51.375 13.375 45.234375 5.796875 \nQ 39.109375 -1.765625 25.6875 -1.765625 \nQ 17.140625 -1.765625 10.5625 3.046875 \nQ 4 7.859375 3.21875 17.828125 \nz\n\" id=\"Helvetica-53\"/>\n      </defs>\n      <g style=\"fill:#d5c4a1;\" transform=\"translate(67.372591 326.254531)scale(0.126 -0.126)\">\n       <use xlink:href=\"#Helvetica-8722\"/>\n       <use x=\"58.398438\" xlink:href=\"#Helvetica-53\"/>\n      </g>\n     </g>\n    </g>\n    <g id=\"xtick_2\">\n     <g id=\"line2d_3\">\n      <path clip-path=\"url(#p45ad32240f)\" d=\"M 139.185812 311.616 \nL 139.185812 7.2 \n\" style=\"fill:none;stroke:#3c3836;stroke-linecap:square;stroke-width:1.12;\"/>\n     </g>\n     <g id=\"line2d_4\"/>\n     <g id=\"text_2\">\n      <!-- 0 -->\n      <defs>\n       <path d=\"M 27.046875 69.921875 \nQ 40.625 69.921875 46.6875 58.734375 \nQ 51.375 50.09375 51.375 35.0625 \nQ 51.375 20.796875 47.125 11.46875 \nQ 40.96875 -1.90625 27 -1.90625 \nQ 14.40625 -1.90625 8.25 9.03125 \nQ 3.125 18.171875 3.125 33.546875 \nQ 3.125 45.453125 6.203125 54 \nQ 11.96875 69.921875 27.046875 69.921875 \nz\nM 26.953125 6.109375 \nQ 33.796875 6.109375 37.84375 12.15625 \nQ 41.890625 18.21875 41.890625 34.71875 \nQ 41.890625 46.625 38.953125 54.3125 \nQ 36.03125 62.015625 27.59375 62.015625 \nQ 19.828125 62.015625 16.234375 54.703125 \nQ 12.640625 47.40625 12.640625 33.203125 \nQ 12.640625 22.515625 14.9375 16.015625 \nQ 18.453125 6.109375 26.953125 6.109375 \nz\n\" id=\"Helvetica-48\"/>\n      </defs>\n      <g style=\"fill:#d5c4a1;\" transform=\"translate(135.682422 326.254531)scale(0.126 -0.126)\">\n       <use xlink:href=\"#Helvetica-48\"/>\n      </g>\n     </g>\n    </g>\n    <g id=\"xtick_3\">\n     <g id=\"line2d_5\">\n      <path clip-path=\"url(#p45ad32240f)\" d=\"M 203.816049 311.616 \nL 203.816049 7.2 \n\" style=\"fill:none;stroke:#3c3836;stroke-linecap:square;stroke-width:1.12;\"/>\n     </g>\n     <g id=\"line2d_6\"/>\n     <g id=\"text_3\">\n      <!-- 5 -->\n      <g style=\"fill:#d5c4a1;\" transform=\"translate(200.312659 326.254531)scale(0.126 -0.126)\">\n       <use xlink:href=\"#Helvetica-53\"/>\n      </g>\n     </g>\n    </g>\n    <g id=\"xtick_4\">\n     <g id=\"line2d_7\">\n      <path clip-path=\"url(#p45ad32240f)\" d=\"M 268.446286 311.616 \nL 268.446286 7.2 \n\" style=\"fill:none;stroke:#3c3836;stroke-linecap:square;stroke-width:1.12;\"/>\n     </g>\n     <g id=\"line2d_8\"/>\n     <g id=\"text_4\">\n      <!-- 10 -->\n      <defs>\n       <path d=\"M 9.578125 49.515625 \nL 9.578125 56.25 \nQ 19.09375 57.171875 22.84375 59.34375 \nQ 26.609375 61.53125 28.46875 69.625 \nL 35.40625 69.625 \nL 35.40625 0 \nL 26.03125 0 \nL 26.03125 49.515625 \nz\n\" id=\"Helvetica-49\"/>\n      </defs>\n      <g style=\"fill:#d5c4a1;\" transform=\"translate(261.439505 326.254531)scale(0.126 -0.126)\">\n       <use xlink:href=\"#Helvetica-49\"/>\n       <use x=\"55.615234\" xlink:href=\"#Helvetica-48\"/>\n      </g>\n     </g>\n    </g>\n    <g id=\"xtick_5\">\n     <g id=\"line2d_9\">\n      <path clip-path=\"url(#p45ad32240f)\" d=\"M 333.076524 311.616 \nL 333.076524 7.2 \n\" style=\"fill:none;stroke:#3c3836;stroke-linecap:square;stroke-width:1.12;\"/>\n     </g>\n     <g id=\"line2d_10\"/>\n     <g id=\"text_5\">\n      <!-- 15 -->\n      <g style=\"fill:#d5c4a1;\" transform=\"translate(326.069742 326.254531)scale(0.126 -0.126)\">\n       <use xlink:href=\"#Helvetica-49\"/>\n       <use x=\"55.615234\" xlink:href=\"#Helvetica-53\"/>\n      </g>\n     </g>\n    </g>\n   </g>\n   <g id=\"matplotlib.axis_2\">\n    <g id=\"ytick_1\">\n     <g id=\"line2d_11\">\n      <path clip-path=\"url(#p45ad32240f)\" d=\"M 37.320781 311.616 \nL 394.440781 311.616 \n\" style=\"fill:none;stroke:#3c3836;stroke-linecap:square;stroke-width:1.12;\"/>\n     </g>\n     <g id=\"line2d_12\"/>\n     <g id=\"text_6\">\n      <!-- 0.00 -->\n      <defs>\n       <path d=\"M 8.546875 10.640625 \nL 18.75 10.640625 \nL 18.75 0 \nL 8.546875 0 \nz\n\" id=\"Helvetica-46\"/>\n      </defs>\n      <g style=\"fill:#d5c4a1;\" transform=\"translate(7.2 316.135266)scale(0.126 -0.126)\">\n       <use xlink:href=\"#Helvetica-48\"/>\n       <use x=\"55.615234\" xlink:href=\"#Helvetica-46\"/>\n       <use x=\"83.398438\" xlink:href=\"#Helvetica-48\"/>\n       <use x=\"139.013672\" xlink:href=\"#Helvetica-48\"/>\n      </g>\n     </g>\n    </g>\n    <g id=\"ytick_2\">\n     <g id=\"line2d_13\">\n      <path clip-path=\"url(#p45ad32240f)\" d=\"M 37.320781 258.510285 \nL 394.440781 258.510285 \n\" style=\"fill:none;stroke:#3c3836;stroke-linecap:square;stroke-width:1.12;\"/>\n     </g>\n     <g id=\"line2d_14\"/>\n     <g id=\"text_7\">\n      <!-- 0.02 -->\n      <defs>\n       <path d=\"M 3.125 0 \nQ 3.609375 9.03125 6.859375 15.71875 \nQ 10.109375 22.40625 19.53125 27.875 \nL 28.90625 33.296875 \nQ 35.203125 36.96875 37.75 39.546875 \nQ 41.75 43.609375 41.75 48.828125 \nQ 41.75 54.9375 38.078125 58.515625 \nQ 34.421875 62.109375 28.328125 62.109375 \nQ 19.28125 62.109375 15.828125 55.28125 \nQ 13.96875 51.609375 13.765625 45.125 \nL 4.828125 45.125 \nQ 4.984375 54.25 8.203125 60.015625 \nQ 13.921875 70.171875 28.375 70.171875 \nQ 40.375 70.171875 45.921875 63.671875 \nQ 51.46875 57.171875 51.46875 49.21875 \nQ 51.46875 40.828125 45.5625 34.859375 \nQ 42.140625 31.390625 33.296875 26.46875 \nL 26.609375 22.75 \nQ 21.828125 20.125 19.09375 17.71875 \nQ 14.203125 13.484375 12.9375 8.296875 \nL 51.125 8.296875 \nL 51.125 0 \nL 3.125 0 \nz\n\" id=\"Helvetica-50\"/>\n      </defs>\n      <g style=\"fill:#d5c4a1;\" transform=\"translate(7.2 263.029551)scale(0.126 -0.126)\">\n       <use xlink:href=\"#Helvetica-48\"/>\n       <use x=\"55.615234\" xlink:href=\"#Helvetica-46\"/>\n       <use x=\"83.398438\" xlink:href=\"#Helvetica-48\"/>\n       <use x=\"139.013672\" xlink:href=\"#Helvetica-50\"/>\n      </g>\n     </g>\n    </g>\n    <g id=\"ytick_3\">\n     <g id=\"line2d_15\">\n      <path clip-path=\"url(#p45ad32240f)\" d=\"M 37.320781 205.40457 \nL 394.440781 205.40457 \n\" style=\"fill:none;stroke:#3c3836;stroke-linecap:square;stroke-width:1.12;\"/>\n     </g>\n     <g id=\"line2d_16\"/>\n     <g id=\"text_8\">\n      <!-- 0.04 -->\n      <defs>\n       <path d=\"M 33.0625 24.75 \nL 33.0625 56.453125 \nL 10.640625 24.75 \nz\nM 33.203125 0 \nL 33.203125 17.09375 \nL 2.546875 17.09375 \nL 2.546875 25.6875 \nL 34.578125 70.125 \nL 42 70.125 \nL 42 24.75 \nL 52.296875 24.75 \nL 52.296875 17.09375 \nL 42 17.09375 \nL 42 0 \nz\n\" id=\"Helvetica-52\"/>\n      </defs>\n      <g style=\"fill:#d5c4a1;\" transform=\"translate(7.2 209.923836)scale(0.126 -0.126)\">\n       <use xlink:href=\"#Helvetica-48\"/>\n       <use x=\"55.615234\" xlink:href=\"#Helvetica-46\"/>\n       <use x=\"83.398438\" xlink:href=\"#Helvetica-48\"/>\n       <use x=\"139.013672\" xlink:href=\"#Helvetica-52\"/>\n      </g>\n     </g>\n    </g>\n    <g id=\"ytick_4\">\n     <g id=\"line2d_17\">\n      <path clip-path=\"url(#p45ad32240f)\" d=\"M 37.320781 152.298855 \nL 394.440781 152.298855 \n\" style=\"fill:none;stroke:#3c3836;stroke-linecap:square;stroke-width:1.12;\"/>\n     </g>\n     <g id=\"line2d_18\"/>\n     <g id=\"text_9\">\n      <!-- 0.06 -->\n      <defs>\n       <path d=\"M 29.25 70.21875 \nQ 40.96875 70.21875 45.578125 64.140625 \nQ 50.203125 58.0625 50.203125 51.609375 \nL 41.5 51.609375 \nQ 40.71875 55.765625 39.015625 58.109375 \nQ 35.84375 62.5 29.390625 62.5 \nQ 22.015625 62.5 17.671875 55.6875 \nQ 13.328125 48.875 12.84375 36.1875 \nQ 15.875 40.625 20.453125 42.828125 \nQ 24.65625 44.78125 29.828125 44.78125 \nQ 38.625 44.78125 45.15625 39.15625 \nQ 51.703125 33.546875 51.703125 22.40625 \nQ 51.703125 12.890625 45.5 5.53125 \nQ 39.3125 -1.8125 27.828125 -1.8125 \nQ 18.015625 -1.8125 10.890625 5.640625 \nQ 3.765625 13.09375 3.765625 30.71875 \nQ 3.765625 43.75 6.9375 52.828125 \nQ 13.03125 70.21875 29.25 70.21875 \nz\nM 28.609375 6 \nQ 35.546875 6 38.984375 10.65625 \nQ 42.4375 15.328125 42.4375 21.6875 \nQ 42.4375 27.046875 39.359375 31.90625 \nQ 36.28125 36.765625 28.171875 36.765625 \nQ 22.515625 36.765625 18.234375 33 \nQ 13.96875 29.25 13.96875 21.6875 \nQ 13.96875 15.046875 17.84375 10.515625 \nQ 21.734375 6 28.609375 6 \nz\n\" id=\"Helvetica-54\"/>\n      </defs>\n      <g style=\"fill:#d5c4a1;\" transform=\"translate(7.2 156.818121)scale(0.126 -0.126)\">\n       <use xlink:href=\"#Helvetica-48\"/>\n       <use x=\"55.615234\" xlink:href=\"#Helvetica-46\"/>\n       <use x=\"83.398438\" xlink:href=\"#Helvetica-48\"/>\n       <use x=\"139.013672\" xlink:href=\"#Helvetica-54\"/>\n      </g>\n     </g>\n    </g>\n    <g id=\"ytick_5\">\n     <g id=\"line2d_19\">\n      <path clip-path=\"url(#p45ad32240f)\" d=\"M 37.320781 99.19314 \nL 394.440781 99.19314 \n\" style=\"fill:none;stroke:#3c3836;stroke-linecap:square;stroke-width:1.12;\"/>\n     </g>\n     <g id=\"line2d_20\"/>\n     <g id=\"text_10\">\n      <!-- 0.08 -->\n      <defs>\n       <path d=\"M 27.203125 40.625 \nQ 33.015625 40.625 36.28125 43.875 \nQ 39.546875 47.125 39.546875 51.609375 \nQ 39.546875 55.515625 36.421875 58.78125 \nQ 33.296875 62.0625 26.90625 62.0625 \nQ 20.5625 62.0625 17.71875 58.78125 \nQ 14.890625 55.515625 14.890625 51.125 \nQ 14.890625 46.1875 18.546875 43.40625 \nQ 22.21875 40.625 27.203125 40.625 \nz\nM 27.734375 6 \nQ 33.84375 6 37.859375 9.296875 \nQ 41.890625 12.59375 41.890625 19.140625 \nQ 41.890625 25.921875 37.734375 29.4375 \nQ 33.59375 32.953125 27.09375 32.953125 \nQ 20.796875 32.953125 16.8125 29.359375 \nQ 12.84375 25.78125 12.84375 19.4375 \nQ 12.84375 13.96875 16.484375 9.984375 \nQ 20.125 6 27.734375 6 \nz\nM 15.234375 37.25 \nQ 11.578125 38.8125 9.515625 40.921875 \nQ 5.671875 44.828125 5.671875 51.078125 \nQ 5.671875 58.890625 11.328125 64.5 \nQ 17 70.125 27.390625 70.125 \nQ 37.453125 70.125 43.15625 64.8125 \nQ 48.875 59.515625 48.875 52.4375 \nQ 48.875 45.90625 45.5625 41.84375 \nQ 43.703125 39.546875 39.796875 37.359375 \nQ 44.140625 35.359375 46.625 32.765625 \nQ 51.265625 27.875 51.265625 20.0625 \nQ 51.265625 10.84375 45.0625 4.421875 \nQ 38.875 -2 27.546875 -2 \nQ 17.328125 -2 10.265625 3.53125 \nQ 3.21875 9.078125 3.21875 19.625 \nQ 3.21875 25.828125 6.25 30.34375 \nQ 9.28125 34.859375 15.234375 37.25 \nz\n\" id=\"Helvetica-56\"/>\n      </defs>\n      <g style=\"fill:#d5c4a1;\" transform=\"translate(7.2 103.712406)scale(0.126 -0.126)\">\n       <use xlink:href=\"#Helvetica-48\"/>\n       <use x=\"55.615234\" xlink:href=\"#Helvetica-46\"/>\n       <use x=\"83.398438\" xlink:href=\"#Helvetica-48\"/>\n       <use x=\"139.013672\" xlink:href=\"#Helvetica-56\"/>\n      </g>\n     </g>\n    </g>\n    <g id=\"ytick_6\">\n     <g id=\"line2d_21\">\n      <path clip-path=\"url(#p45ad32240f)\" d=\"M 37.320781 46.087425 \nL 394.440781 46.087425 \n\" style=\"fill:none;stroke:#3c3836;stroke-linecap:square;stroke-width:1.12;\"/>\n     </g>\n     <g id=\"line2d_22\"/>\n     <g id=\"text_11\">\n      <!-- 0.10 -->\n      <g style=\"fill:#d5c4a1;\" transform=\"translate(7.2 50.606691)scale(0.126 -0.126)\">\n       <use xlink:href=\"#Helvetica-48\"/>\n       <use x=\"55.615234\" xlink:href=\"#Helvetica-46\"/>\n       <use x=\"83.398438\" xlink:href=\"#Helvetica-49\"/>\n       <use x=\"139.013672\" xlink:href=\"#Helvetica-48\"/>\n      </g>\n     </g>\n    </g>\n   </g>\n   <g id=\"line2d_23\">\n    <path clip-path=\"url(#p45ad32240f)\" d=\"M 53.553509 311.413314 \nL 58.666179 311.259351 \nL 63.778849 310.915319 \nL 68.891519 310.248519 \nL 71.447854 309.729665 \nL 74.004189 309.039773 \nL 76.560524 308.133783 \nL 79.116859 306.958296 \nL 81.673194 305.451247 \nL 84.229529 303.541965 \nL 86.785864 301.151726 \nL 89.342199 298.194928 \nL 91.898534 294.580977 \nL 94.454869 290.216976 \nL 97.011204 285.011236 \nL 99.567539 278.877589 \nL 102.123874 271.740412 \nL 104.680209 263.540197 \nL 107.236544 254.239409 \nL 109.792879 243.828332 \nL 112.349214 232.330508 \nL 114.905549 219.807371 \nL 117.461884 206.361633 \nL 122.574554 177.32815 \nL 132.799894 117.27147 \nL 135.356229 103.549499 \nL 137.912564 90.979269 \nL 140.468899 79.863939 \nL 143.025234 70.478875 \nL 145.581569 63.060222 \nL 148.137904 57.794995 \nL 150.694239 54.813286 \nL 153.250574 54.18303 \nL 155.806909 55.907589 \nL 158.363244 59.926266 \nL 160.919579 66.117629 \nL 163.475914 74.305385 \nL 166.032249 84.266352 \nL 168.588584 95.740019 \nL 171.144919 108.439051 \nL 173.701254 122.06013 \nL 178.813924 150.837745 \nL 183.926594 179.703396 \nL 186.482929 193.505947 \nL 189.039264 206.585663 \nL 191.595599 218.751277 \nL 194.151934 229.839909 \nL 196.708269 239.715256 \nL 199.264604 248.264753 \nL 201.820939 255.396126 \nL 204.377274 261.033775 \nL 206.933609 265.11543 \nL 209.489944 267.589486 \nL 212.046279 268.413368 \nL 214.602614 267.553188 \nL 217.158949 264.984842 \nL 219.715284 260.696564 \nL 222.271619 254.692819 \nL 224.827954 246.999265 \nL 227.384289 237.668375 \nL 229.940624 226.785205 \nL 232.496959 214.472703 \nL 235.053294 200.895932 \nL 237.609629 186.264577 \nL 242.722299 154.89886 \nL 247.834969 122.887186 \nL 250.391304 107.554499 \nL 252.947639 93.184254 \nL 255.503974 80.1536 \nL 258.060309 68.815108 \nL 260.616644 59.481891 \nL 263.172979 52.413983 \nL 265.729314 47.806907 \nL 268.285649 45.783193 \nL 270.841984 46.387426 \nL 273.398319 49.585128 \nL 275.954654 55.265535 \nL 278.510989 63.24801 \nL 281.067324 73.291623 \nL 283.623659 85.107219 \nL 286.179994 98.371139 \nL 288.736329 112.739719 \nL 293.848999 143.401646 \nL 298.961669 174.462688 \nL 301.518004 189.438754 \nL 304.074339 203.747063 \nL 306.630674 217.218769 \nL 309.187009 229.729397 \nL 311.743344 241.196981 \nL 314.299679 251.578606 \nL 316.856014 260.865812 \nL 319.412349 269.079263 \nL 321.968684 276.263094 \nL 324.525019 282.479277 \nL 327.081354 287.80229 \nL 329.637689 292.314292 \nL 332.194024 296.100949 \nL 334.750359 299.247973 \nL 337.306694 301.838393 \nL 339.863029 303.950529 \nL 342.419364 305.656595 \nL 344.975699 307.021866 \nL 347.532034 308.104297 \nL 350.088369 308.954509 \nL 352.644704 309.616046 \nL 355.201039 310.12582 \nL 360.313709 310.808005 \nL 365.426379 311.186153 \nL 373.095384 311.424619 \nL 378.208054 311.442502 \nL 378.208054 311.442502 \n\" style=\"fill:none;stroke:#ff0000;stroke-linecap:square;stroke-width:1.2;\"/>\n   </g>\n   <g id=\"patch_8\">\n    <path d=\"M 37.320781 311.616 \nL 37.320781 7.2 \n\" style=\"fill:none;stroke:#d5c4a1;stroke-linecap:square;stroke-linejoin:miter;stroke-width:1.12;\"/>\n   </g>\n   <g id=\"patch_9\">\n    <path d=\"M 394.440781 311.616 \nL 394.440781 7.2 \n\" style=\"fill:none;stroke:#d5c4a1;stroke-linecap:square;stroke-linejoin:miter;stroke-width:1.12;\"/>\n   </g>\n   <g id=\"patch_10\">\n    <path d=\"M 37.320781 311.616 \nL 394.440781 311.616 \n\" style=\"fill:none;stroke:#d5c4a1;stroke-linecap:square;stroke-linejoin:miter;stroke-width:1.12;\"/>\n   </g>\n   <g id=\"patch_11\">\n    <path d=\"M 37.320781 7.2 \nL 394.440781 7.2 \n\" style=\"fill:none;stroke:#d5c4a1;stroke-linecap:square;stroke-linejoin:miter;stroke-width:1.12;\"/>\n   </g>\n  </g>\n </g>\n <defs>\n  <clipPath id=\"p45ad32240f\">\n   <rect height=\"304.416\" width=\"357.12\" x=\"37.320781\" y=\"7.2\"/>\n  </clipPath>\n </defs>\n</svg>\n",
      "text/plain": [
       "<Figure size 460.8x403.2 with 1 Axes>"
      ]
     },
     "metadata": {},
     "output_type": "display_data"
    }
   ],
   "source": [
    "# when we do not know, it doesn't fit very well\n",
    "np.random.shuffle(xs)\n",
    "sns.distplot(xs, color='red') # when we do not know "
   ]
  },
  {
   "cell_type": "code",
   "execution_count": 25,
   "metadata": {},
   "outputs": [],
   "source": [
    "## Using scipy, estimate parameters of above model.  Assume first 100 came from first normal, \n",
    "## next 100 came from another normal.  \n",
    "from scipy.stats import norm\n",
    "from scipy.optimize import minimize\n",
    "mu_1 = 1\n",
    "mu_2 = 10\n",
    "sig_1 = 1\n",
    "sig_2 = 1\n",
    "thetas = [mu_1, mu_2, sig_1, sig_2]\n",
    "\n",
    "zs = [0, 1]\n",
    "\n",
    "def neg_loglik(thetas, xs):\n",
    "    ys = np.append(norm(loc=thetas[0], scale=thetas[2]).logpdf(xs[:N]),\n",
    "    norm(loc=thetas[1], scale=thetas[3]).logpdf(xs[N:]))\n",
    "    return -ys.sum()\n",
    "\n",
    "def neg_logliknorm(thetas, xs):\n",
    "    return -np.sum(norm(loc=thetas[0], scale=thetas[1]).logpdf(xs)) "
   ]
  },
  {
   "cell_type": "code",
   "execution_count": 26,
   "metadata": {},
   "outputs": [],
   "source": [
    "test = np.random.normal(4, 1, 1000)"
   ]
  },
  {
   "cell_type": "code",
   "execution_count": 27,
   "metadata": {},
   "outputs": [
    {
     "data": {
      "image/png": "[encoded data removed]",
      "image/svg+xml": "<?xml version=\"1.0\" encoding=\"utf-8\" standalone=\"no\"?>\n<!DOCTYPE svg PUBLIC \"-//W3C//DTD SVG 1.1//EN\"\n  \"http://www.w3.org/Graphics/SVG/1.1/DTD/svg11.dtd\">\n<!-- Created with matplotlib (https://matplotlib.org/) -->\n<svg height=\"336.080844pt\" version=\"1.1\" viewBox=\"0 0 394.634 336.080844\" width=\"394.634pt\" xmlns=\"http://www.w3.org/2000/svg\" xmlns:xlink=\"http://www.w3.org/1999/xlink\">\n <defs>\n  <style type=\"text/css\">\n*{stroke-linecap:butt;stroke-linejoin:round;}\n  </style>\n </defs>\n <g id=\"figure_1\">\n  <g id=\"patch_1\">\n   <path d=\"M 0 336.080844 \nL 394.634 336.080844 \nL 394.634 0 \nL 0 0 \nz\n\" style=\"fill:#1d2021;\"/>\n  </g>\n  <g id=\"axes_1\">\n   <g id=\"patch_2\">\n    <path d=\"M 30.314 311.616 \nL 387.434 311.616 \nL 387.434 7.2 \nL 30.314 7.2 \nz\n\" style=\"fill:#282828;\"/>\n   </g>\n   <g id=\"patch_3\">\n    <path clip-path=\"url(#p59a9e6cc33)\" d=\"M 76.100021 311.616 \nL 85.93513 311.616 \nL 85.93513 309.050336 \nL 76.100021 309.050336 \nz\n\" style=\"fill:#3572c6;opacity:0.4;\"/>\n   </g>\n   <g id=\"patch_4\">\n    <path clip-path=\"url(#p59a9e6cc33)\" d=\"M 85.93513 311.616 \nL 95.77024 311.616 \nL 95.77024 311.616 \nL 85.93513 311.616 \nz\n\" style=\"fill:#3572c6;opacity:0.4;\"/>\n   </g>\n   <g id=\"patch_5\">\n    <path clip-path=\"url(#p59a9e6cc33)\" d=\"M 95.77024 311.616 \nL 105.605349 311.616 \nL 105.605349 306.484673 \nL 95.77024 306.484673 \nz\n\" style=\"fill:#3572c6;opacity:0.4;\"/>\n   </g>\n   <g id=\"patch_6\">\n    <path clip-path=\"url(#p59a9e6cc33)\" d=\"M 105.605349 311.616 \nL 115.440459 311.616 \nL 115.440459 309.050336 \nL 105.605349 309.050336 \nz\n\" style=\"fill:#3572c6;opacity:0.4;\"/>\n   </g>\n   <g id=\"patch_7\">\n    <path clip-path=\"url(#p59a9e6cc33)\" d=\"M 115.440459 311.616 \nL 125.275568 311.616 \nL 125.275568 296.222018 \nL 115.440459 296.222018 \nz\n\" style=\"fill:#3572c6;opacity:0.4;\"/>\n   </g>\n   <g id=\"patch_8\">\n    <path clip-path=\"url(#p59a9e6cc33)\" d=\"M 125.275568 311.616 \nL 135.110678 311.616 \nL 135.110678 291.09069 \nL 125.275568 291.09069 \nz\n\" style=\"fill:#3572c6;opacity:0.4;\"/>\n   </g>\n   <g id=\"patch_9\">\n    <path clip-path=\"url(#p59a9e6cc33)\" d=\"M 135.110678 311.616 \nL 144.945788 311.616 \nL 144.945788 280.828035 \nL 135.110678 280.828035 \nz\n\" style=\"fill:#3572c6;opacity:0.4;\"/>\n   </g>\n   <g id=\"patch_10\">\n    <path clip-path=\"url(#p59a9e6cc33)\" d=\"M 144.945788 311.616 \nL 154.780897 311.616 \nL 154.780897 237.211752 \nL 144.945788 237.211752 \nz\n\" style=\"fill:#3572c6;opacity:0.4;\"/>\n   </g>\n   <g id=\"patch_11\">\n    <path clip-path=\"url(#p59a9e6cc33)\" d=\"M 154.780897 311.616 \nL 164.616007 311.616 \nL 164.616007 226.949097 \nL 154.780897 226.949097 \nz\n\" style=\"fill:#3572c6;opacity:0.4;\"/>\n   </g>\n   <g id=\"patch_12\">\n    <path clip-path=\"url(#p59a9e6cc33)\" d=\"M 164.616007 311.616 \nL 174.451116 311.616 \nL 174.451116 173.070159 \nL 164.616007 173.070159 \nz\n\" style=\"fill:#3572c6;opacity:0.4;\"/>\n   </g>\n   <g id=\"patch_13\">\n    <path clip-path=\"url(#p59a9e6cc33)\" d=\"M 174.451116 311.616 \nL 184.286226 311.616 \nL 184.286226 124.322549 \nL 174.451116 124.322549 \nz\n\" style=\"fill:#3572c6;opacity:0.4;\"/>\n   </g>\n   <g id=\"patch_14\">\n    <path clip-path=\"url(#p59a9e6cc33)\" d=\"M 184.286226 311.616 \nL 194.121336 311.616 \nL 194.121336 139.716531 \nL 184.286226 139.716531 \nz\n\" style=\"fill:#3572c6;opacity:0.4;\"/>\n   </g>\n   <g id=\"patch_15\">\n    <path clip-path=\"url(#p59a9e6cc33)\" d=\"M 194.121336 311.616 \nL 203.956445 311.616 \nL 203.956445 93.534584 \nL 194.121336 93.534584 \nz\n\" style=\"fill:#3572c6;opacity:0.4;\"/>\n   </g>\n   <g id=\"patch_16\">\n    <path clip-path=\"url(#p59a9e6cc33)\" d=\"M 203.956445 311.616 \nL 213.791555 311.616 \nL 213.791555 49.918301 \nL 203.956445 49.918301 \nz\n\" style=\"fill:#3572c6;opacity:0.4;\"/>\n   </g>\n   <g id=\"patch_17\">\n    <path clip-path=\"url(#p59a9e6cc33)\" d=\"M 213.791555 311.616 \nL 223.626664 311.616 \nL 223.626664 21.696 \nL 213.791555 21.696 \nz\n\" style=\"fill:#3572c6;opacity:0.4;\"/>\n   </g>\n   <g id=\"patch_18\">\n    <path clip-path=\"url(#p59a9e6cc33)\" d=\"M 223.626664 311.616 \nL 233.461774 311.616 \nL 233.461774 44.786973 \nL 223.626664 44.786973 \nz\n\" style=\"fill:#3572c6;opacity:0.4;\"/>\n   </g>\n   <g id=\"patch_19\">\n    <path clip-path=\"url(#p59a9e6cc33)\" d=\"M 233.461774 311.616 \nL 243.296884 311.616 \nL 243.296884 80.706265 \nL 233.461774 80.706265 \nz\n\" style=\"fill:#3572c6;opacity:0.4;\"/>\n   </g>\n   <g id=\"patch_20\">\n    <path clip-path=\"url(#p59a9e6cc33)\" d=\"M 243.296884 311.616 \nL 253.131993 311.616 \nL 253.131993 116.625558 \nL 243.296884 116.625558 \nz\n\" style=\"fill:#3572c6;opacity:0.4;\"/>\n   </g>\n   <g id=\"patch_21\">\n    <path clip-path=\"url(#p59a9e6cc33)\" d=\"M 253.131993 311.616 \nL 262.967103 311.616 \nL 262.967103 216.686442 \nL 253.131993 216.686442 \nz\n\" style=\"fill:#3572c6;opacity:0.4;\"/>\n   </g>\n   <g id=\"patch_22\">\n    <path clip-path=\"url(#p59a9e6cc33)\" d=\"M 262.967103 311.616 \nL 272.802212 311.616 \nL 272.802212 203.858124 \nL 262.967103 203.858124 \nz\n\" style=\"fill:#3572c6;opacity:0.4;\"/>\n   </g>\n   <g id=\"patch_23\">\n    <path clip-path=\"url(#p59a9e6cc33)\" d=\"M 272.802212 311.616 \nL 282.637322 311.616 \nL 282.637322 242.34308 \nL 272.802212 242.34308 \nz\n\" style=\"fill:#3572c6;opacity:0.4;\"/>\n   </g>\n   <g id=\"patch_24\">\n    <path clip-path=\"url(#p59a9e6cc33)\" d=\"M 282.637322 311.616 \nL 292.472432 311.616 \nL 292.472432 262.868389 \nL 282.637322 262.868389 \nz\n\" style=\"fill:#3572c6;opacity:0.4;\"/>\n   </g>\n   <g id=\"patch_25\">\n    <path clip-path=\"url(#p59a9e6cc33)\" d=\"M 292.472432 311.616 \nL 302.307541 311.616 \nL 302.307541 291.09069 \nL 292.472432 291.09069 \nz\n\" style=\"fill:#3572c6;opacity:0.4;\"/>\n   </g>\n   <g id=\"patch_26\">\n    <path clip-path=\"url(#p59a9e6cc33)\" d=\"M 302.307541 311.616 \nL 312.142651 311.616 \nL 312.142651 306.484673 \nL 302.307541 306.484673 \nz\n\" style=\"fill:#3572c6;opacity:0.4;\"/>\n   </g>\n   <g id=\"patch_27\">\n    <path clip-path=\"url(#p59a9e6cc33)\" d=\"M 312.142651 311.616 \nL 321.97776 311.616 \nL 321.97776 301.353345 \nL 312.142651 301.353345 \nz\n\" style=\"fill:#3572c6;opacity:0.4;\"/>\n   </g>\n   <g id=\"patch_28\">\n    <path clip-path=\"url(#p59a9e6cc33)\" d=\"M 321.97776 311.616 \nL 331.81287 311.616 \nL 331.81287 303.919009 \nL 321.97776 303.919009 \nz\n\" style=\"fill:#3572c6;opacity:0.4;\"/>\n   </g>\n   <g id=\"patch_29\">\n    <path clip-path=\"url(#p59a9e6cc33)\" d=\"M 331.81287 311.616 \nL 341.647979 311.616 \nL 341.647979 306.484673 \nL 331.81287 306.484673 \nz\n\" style=\"fill:#3572c6;opacity:0.4;\"/>\n   </g>\n   <g id=\"matplotlib.axis_1\">\n    <g id=\"xtick_1\">\n     <g id=\"line2d_1\">\n      <path clip-path=\"url(#p59a9e6cc33)\" d=\"M 61.950756 311.616 \nL 61.950756 7.2 \n\" style=\"fill:none;stroke:#3c3836;stroke-linecap:square;stroke-width:1.12;\"/>\n     </g>\n     <g id=\"line2d_2\"/>\n     <g id=\"text_1\">\n      <!-- 0 -->\n      <defs>\n       <path d=\"M 27.046875 69.921875 \nQ 40.625 69.921875 46.6875 58.734375 \nQ 51.375 50.09375 51.375 35.0625 \nQ 51.375 20.796875 47.125 11.46875 \nQ 40.96875 -1.90625 27 -1.90625 \nQ 14.40625 -1.90625 8.25 9.03125 \nQ 3.125 18.171875 3.125 33.546875 \nQ 3.125 45.453125 6.203125 54 \nQ 11.96875 69.921875 27.046875 69.921875 \nz\nM 26.953125 6.109375 \nQ 33.796875 6.109375 37.84375 12.15625 \nQ 41.890625 18.21875 41.890625 34.71875 \nQ 41.890625 46.625 38.953125 54.3125 \nQ 36.03125 62.015625 27.59375 62.015625 \nQ 19.828125 62.015625 16.234375 54.703125 \nQ 12.640625 47.40625 12.640625 33.203125 \nQ 12.640625 22.515625 14.9375 16.015625 \nQ 18.453125 6.109375 26.953125 6.109375 \nz\n\" id=\"Helvetica-48\"/>\n      </defs>\n      <g style=\"fill:#d5c4a1;\" transform=\"translate(58.447365 326.254531)scale(0.126 -0.126)\">\n       <use xlink:href=\"#Helvetica-48\"/>\n      </g>\n     </g>\n    </g>\n    <g id=\"xtick_2\">\n     <g id=\"line2d_3\">\n      <path clip-path=\"url(#p59a9e6cc33)\" d=\"M 138.500051 311.616 \nL 138.500051 7.2 \n\" style=\"fill:none;stroke:#3c3836;stroke-linecap:square;stroke-width:1.12;\"/>\n     </g>\n     <g id=\"line2d_4\"/>\n     <g id=\"text_2\">\n      <!-- 2 -->\n      <defs>\n       <path d=\"M 3.125 0 \nQ 3.609375 9.03125 6.859375 15.71875 \nQ 10.109375 22.40625 19.53125 27.875 \nL 28.90625 33.296875 \nQ 35.203125 36.96875 37.75 39.546875 \nQ 41.75 43.609375 41.75 48.828125 \nQ 41.75 54.9375 38.078125 58.515625 \nQ 34.421875 62.109375 28.328125 62.109375 \nQ 19.28125 62.109375 15.828125 55.28125 \nQ 13.96875 51.609375 13.765625 45.125 \nL 4.828125 45.125 \nQ 4.984375 54.25 8.203125 60.015625 \nQ 13.921875 70.171875 28.375 70.171875 \nQ 40.375 70.171875 45.921875 63.671875 \nQ 51.46875 57.171875 51.46875 49.21875 \nQ 51.46875 40.828125 45.5625 34.859375 \nQ 42.140625 31.390625 33.296875 26.46875 \nL 26.609375 22.75 \nQ 21.828125 20.125 19.09375 17.71875 \nQ 14.203125 13.484375 12.9375 8.296875 \nL 51.125 8.296875 \nL 51.125 0 \nL 3.125 0 \nz\n\" id=\"Helvetica-50\"/>\n      </defs>\n      <g style=\"fill:#d5c4a1;\" transform=\"translate(134.99666 326.254531)scale(0.126 -0.126)\">\n       <use xlink:href=\"#Helvetica-50\"/>\n      </g>\n     </g>\n    </g>\n    <g id=\"xtick_3\">\n     <g id=\"line2d_5\">\n      <path clip-path=\"url(#p59a9e6cc33)\" d=\"M 215.049346 311.616 \nL 215.049346 7.2 \n\" style=\"fill:none;stroke:#3c3836;stroke-linecap:square;stroke-width:1.12;\"/>\n     </g>\n     <g id=\"line2d_6\"/>\n     <g id=\"text_3\">\n      <!-- 4 -->\n      <defs>\n       <path d=\"M 33.0625 24.75 \nL 33.0625 56.453125 \nL 10.640625 24.75 \nz\nM 33.203125 0 \nL 33.203125 17.09375 \nL 2.546875 17.09375 \nL 2.546875 25.6875 \nL 34.578125 70.125 \nL 42 70.125 \nL 42 24.75 \nL 52.296875 24.75 \nL 52.296875 17.09375 \nL 42 17.09375 \nL 42 0 \nz\n\" id=\"Helvetica-52\"/>\n      </defs>\n      <g style=\"fill:#d5c4a1;\" transform=\"translate(211.545956 326.254531)scale(0.126 -0.126)\">\n       <use xlink:href=\"#Helvetica-52\"/>\n      </g>\n     </g>\n    </g>\n    <g id=\"xtick_4\">\n     <g id=\"line2d_7\">\n      <path clip-path=\"url(#p59a9e6cc33)\" d=\"M 291.598641 311.616 \nL 291.598641 7.2 \n\" style=\"fill:none;stroke:#3c3836;stroke-linecap:square;stroke-width:1.12;\"/>\n     </g>\n     <g id=\"line2d_8\"/>\n     <g id=\"text_4\">\n      <!-- 6 -->\n      <defs>\n       <path d=\"M 29.25 70.21875 \nQ 40.96875 70.21875 45.578125 64.140625 \nQ 50.203125 58.0625 50.203125 51.609375 \nL 41.5 51.609375 \nQ 40.71875 55.765625 39.015625 58.109375 \nQ 35.84375 62.5 29.390625 62.5 \nQ 22.015625 62.5 17.671875 55.6875 \nQ 13.328125 48.875 12.84375 36.1875 \nQ 15.875 40.625 20.453125 42.828125 \nQ 24.65625 44.78125 29.828125 44.78125 \nQ 38.625 44.78125 45.15625 39.15625 \nQ 51.703125 33.546875 51.703125 22.40625 \nQ 51.703125 12.890625 45.5 5.53125 \nQ 39.3125 -1.8125 27.828125 -1.8125 \nQ 18.015625 -1.8125 10.890625 5.640625 \nQ 3.765625 13.09375 3.765625 30.71875 \nQ 3.765625 43.75 6.9375 52.828125 \nQ 13.03125 70.21875 29.25 70.21875 \nz\nM 28.609375 6 \nQ 35.546875 6 38.984375 10.65625 \nQ 42.4375 15.328125 42.4375 21.6875 \nQ 42.4375 27.046875 39.359375 31.90625 \nQ 36.28125 36.765625 28.171875 36.765625 \nQ 22.515625 36.765625 18.234375 33 \nQ 13.96875 29.25 13.96875 21.6875 \nQ 13.96875 15.046875 17.84375 10.515625 \nQ 21.734375 6 28.609375 6 \nz\n\" id=\"Helvetica-54\"/>\n      </defs>\n      <g style=\"fill:#d5c4a1;\" transform=\"translate(288.095251 326.254531)scale(0.126 -0.126)\">\n       <use xlink:href=\"#Helvetica-54\"/>\n      </g>\n     </g>\n    </g>\n    <g id=\"xtick_5\">\n     <g id=\"line2d_9\">\n      <path clip-path=\"url(#p59a9e6cc33)\" d=\"M 368.147937 311.616 \nL 368.147937 7.2 \n\" style=\"fill:none;stroke:#3c3836;stroke-linecap:square;stroke-width:1.12;\"/>\n     </g>\n     <g id=\"line2d_10\"/>\n     <g id=\"text_5\">\n      <!-- 8 -->\n      <defs>\n       <path d=\"M 27.203125 40.625 \nQ 33.015625 40.625 36.28125 43.875 \nQ 39.546875 47.125 39.546875 51.609375 \nQ 39.546875 55.515625 36.421875 58.78125 \nQ 33.296875 62.0625 26.90625 62.0625 \nQ 20.5625 62.0625 17.71875 58.78125 \nQ 14.890625 55.515625 14.890625 51.125 \nQ 14.890625 46.1875 18.546875 43.40625 \nQ 22.21875 40.625 27.203125 40.625 \nz\nM 27.734375 6 \nQ 33.84375 6 37.859375 9.296875 \nQ 41.890625 12.59375 41.890625 19.140625 \nQ 41.890625 25.921875 37.734375 29.4375 \nQ 33.59375 32.953125 27.09375 32.953125 \nQ 20.796875 32.953125 16.8125 29.359375 \nQ 12.84375 25.78125 12.84375 19.4375 \nQ 12.84375 13.96875 16.484375 9.984375 \nQ 20.125 6 27.734375 6 \nz\nM 15.234375 37.25 \nQ 11.578125 38.8125 9.515625 40.921875 \nQ 5.671875 44.828125 5.671875 51.078125 \nQ 5.671875 58.890625 11.328125 64.5 \nQ 17 70.125 27.390625 70.125 \nQ 37.453125 70.125 43.15625 64.8125 \nQ 48.875 59.515625 48.875 52.4375 \nQ 48.875 45.90625 45.5625 41.84375 \nQ 43.703125 39.546875 39.796875 37.359375 \nQ 44.140625 35.359375 46.625 32.765625 \nQ 51.265625 27.875 51.265625 20.0625 \nQ 51.265625 10.84375 45.0625 4.421875 \nQ 38.875 -2 27.546875 -2 \nQ 17.328125 -2 10.265625 3.53125 \nQ 3.21875 9.078125 3.21875 19.625 \nQ 3.21875 25.828125 6.25 30.34375 \nQ 9.28125 34.859375 15.234375 37.25 \nz\n\" id=\"Helvetica-56\"/>\n      </defs>\n      <g style=\"fill:#d5c4a1;\" transform=\"translate(364.644546 326.254531)scale(0.126 -0.126)\">\n       <use xlink:href=\"#Helvetica-56\"/>\n      </g>\n     </g>\n    </g>\n   </g>\n   <g id=\"matplotlib.axis_2\">\n    <g id=\"ytick_1\">\n     <g id=\"line2d_11\">\n      <path clip-path=\"url(#p59a9e6cc33)\" d=\"M 30.314 311.616 \nL 387.434 311.616 \n\" style=\"fill:none;stroke:#3c3836;stroke-linecap:square;stroke-width:1.12;\"/>\n     </g>\n     <g id=\"line2d_12\"/>\n     <g id=\"text_6\">\n      <!-- 0.0 -->\n      <defs>\n       <path d=\"M 8.546875 10.640625 \nL 18.75 10.640625 \nL 18.75 0 \nL 8.546875 0 \nz\n\" id=\"Helvetica-46\"/>\n      </defs>\n      <g style=\"fill:#d5c4a1;\" transform=\"translate(7.2 316.135266)scale(0.126 -0.126)\">\n       <use xlink:href=\"#Helvetica-48\"/>\n       <use x=\"55.615234\" xlink:href=\"#Helvetica-46\"/>\n       <use x=\"83.398438\" xlink:href=\"#Helvetica-48\"/>\n      </g>\n     </g>\n    </g>\n    <g id=\"ytick_2\">\n     <g id=\"line2d_13\">\n      <path clip-path=\"url(#p59a9e6cc33)\" d=\"M 30.314 245.688329 \nL 387.434 245.688329 \n\" style=\"fill:none;stroke:#3c3836;stroke-linecap:square;stroke-width:1.12;\"/>\n     </g>\n     <g id=\"line2d_14\"/>\n     <g id=\"text_7\">\n      <!-- 0.1 -->\n      <defs>\n       <path d=\"M 9.578125 49.515625 \nL 9.578125 56.25 \nQ 19.09375 57.171875 22.84375 59.34375 \nQ 26.609375 61.53125 28.46875 69.625 \nL 35.40625 69.625 \nL 35.40625 0 \nL 26.03125 0 \nL 26.03125 49.515625 \nz\n\" id=\"Helvetica-49\"/>\n      </defs>\n      <g style=\"fill:#d5c4a1;\" transform=\"translate(7.2 250.207594)scale(0.126 -0.126)\">\n       <use xlink:href=\"#Helvetica-48\"/>\n       <use x=\"55.615234\" xlink:href=\"#Helvetica-46\"/>\n       <use x=\"83.398438\" xlink:href=\"#Helvetica-49\"/>\n      </g>\n     </g>\n    </g>\n    <g id=\"ytick_3\">\n     <g id=\"line2d_15\">\n      <path clip-path=\"url(#p59a9e6cc33)\" d=\"M 30.314 179.760658 \nL 387.434 179.760658 \n\" style=\"fill:none;stroke:#3c3836;stroke-linecap:square;stroke-width:1.12;\"/>\n     </g>\n     <g id=\"line2d_16\"/>\n     <g id=\"text_8\">\n      <!-- 0.2 -->\n      <g style=\"fill:#d5c4a1;\" transform=\"translate(7.2 184.279923)scale(0.126 -0.126)\">\n       <use xlink:href=\"#Helvetica-48\"/>\n       <use x=\"55.615234\" xlink:href=\"#Helvetica-46\"/>\n       <use x=\"83.398438\" xlink:href=\"#Helvetica-50\"/>\n      </g>\n     </g>\n    </g>\n    <g id=\"ytick_4\">\n     <g id=\"line2d_17\">\n      <path clip-path=\"url(#p59a9e6cc33)\" d=\"M 30.314 113.832986 \nL 387.434 113.832986 \n\" style=\"fill:none;stroke:#3c3836;stroke-linecap:square;stroke-width:1.12;\"/>\n     </g>\n     <g id=\"line2d_18\"/>\n     <g id=\"text_9\">\n      <!-- 0.3 -->\n      <defs>\n       <path d=\"M 25.984375 -1.90625 \nQ 13.578125 -1.90625 7.984375 4.90625 \nQ 2.390625 11.71875 2.390625 21.484375 \nL 11.578125 21.484375 \nQ 12.15625 14.703125 14.109375 11.625 \nQ 17.53125 6.109375 26.46875 6.109375 \nQ 33.40625 6.109375 37.59375 9.8125 \nQ 41.796875 13.53125 41.796875 19.390625 \nQ 41.796875 26.609375 37.375 29.484375 \nQ 32.953125 32.375 25.09375 32.375 \nQ 24.21875 32.375 23.3125 32.34375 \nQ 22.40625 32.328125 21.484375 32.28125 \nL 21.484375 40.046875 \nQ 22.859375 39.890625 23.78125 39.84375 \nQ 24.703125 39.796875 25.78125 39.796875 \nQ 30.71875 39.796875 33.890625 41.359375 \nQ 39.453125 44.09375 39.453125 51.125 \nQ 39.453125 56.34375 35.734375 59.171875 \nQ 32.03125 62.015625 27.09375 62.015625 \nQ 18.3125 62.015625 14.9375 56.15625 \nQ 13.09375 52.9375 12.84375 46.96875 \nL 4.15625 46.96875 \nQ 4.15625 54.78125 7.28125 60.25 \nQ 12.640625 70.015625 26.171875 70.015625 \nQ 36.859375 70.015625 42.71875 65.25 \nQ 48.578125 60.5 48.578125 51.46875 \nQ 48.578125 45.015625 45.125 41.015625 \nQ 42.96875 38.53125 39.546875 37.109375 \nQ 45.0625 35.59375 48.15625 31.265625 \nQ 51.265625 26.953125 51.265625 20.703125 \nQ 51.265625 10.6875 44.671875 4.390625 \nQ 38.09375 -1.90625 25.984375 -1.90625 \nz\n\" id=\"Helvetica-51\"/>\n      </defs>\n      <g style=\"fill:#d5c4a1;\" transform=\"translate(7.2 118.352252)scale(0.126 -0.126)\">\n       <use xlink:href=\"#Helvetica-48\"/>\n       <use x=\"55.615234\" xlink:href=\"#Helvetica-46\"/>\n       <use x=\"83.398438\" xlink:href=\"#Helvetica-51\"/>\n      </g>\n     </g>\n    </g>\n    <g id=\"ytick_5\">\n     <g id=\"line2d_19\">\n      <path clip-path=\"url(#p59a9e6cc33)\" d=\"M 30.314 47.905315 \nL 387.434 47.905315 \n\" style=\"fill:none;stroke:#3c3836;stroke-linecap:square;stroke-width:1.12;\"/>\n     </g>\n     <g id=\"line2d_20\"/>\n     <g id=\"text_10\">\n      <!-- 0.4 -->\n      <g style=\"fill:#d5c4a1;\" transform=\"translate(7.2 52.424581)scale(0.126 -0.126)\">\n       <use xlink:href=\"#Helvetica-48\"/>\n       <use x=\"55.615234\" xlink:href=\"#Helvetica-46\"/>\n       <use x=\"83.398438\" xlink:href=\"#Helvetica-52\"/>\n      </g>\n     </g>\n    </g>\n   </g>\n   <g id=\"line2d_21\">\n    <path clip-path=\"url(#p59a9e6cc33)\" d=\"M 46.546727 311.597725 \nL 56.772067 311.462244 \nL 64.441072 311.105556 \nL 74.666412 310.578988 \nL 90.004422 310.264625 \nL 92.560757 309.970417 \nL 95.117092 309.548985 \nL 97.673427 308.996975 \nL 100.229762 308.31051 \nL 102.786097 307.479853 \nL 105.342432 306.489575 \nL 107.898767 305.324999 \nL 110.455102 303.981643 \nL 113.011437 302.471664 \nL 118.124107 299.061622 \nL 123.236777 295.230562 \nL 125.793112 293.074528 \nL 128.349447 290.626811 \nL 130.905782 287.744677 \nL 133.462117 284.274177 \nL 136.018452 280.079576 \nL 138.574787 275.076019 \nL 141.131122 269.257698 \nL 143.687457 262.710628 \nL 146.243792 255.59957 \nL 151.356462 240.463769 \nL 156.469132 224.810124 \nL 159.025467 216.655855 \nL 161.581802 208.071317 \nL 164.138137 198.944995 \nL 169.250807 179.343454 \nL 174.363477 159.865137 \nL 176.919812 151.050292 \nL 179.476147 143.114954 \nL 182.032482 136.011349 \nL 187.145152 123.251084 \nL 189.701487 116.864891 \nL 192.257822 110.019884 \nL 194.814157 102.500715 \nL 197.370492 94.24618 \nL 202.483162 76.178783 \nL 205.039497 67.117412 \nL 207.595832 58.736996 \nL 210.152168 51.589476 \nL 212.708503 46.13215 \nL 215.264838 42.65307 \nL 217.821173 41.245733 \nL 220.377508 41.838847 \nL 222.933843 44.263319 \nL 225.490178 48.323948 \nL 228.046513 53.846016 \nL 230.602848 60.685254 \nL 233.159183 68.712223 \nL 235.715518 77.79486 \nL 238.271853 87.797805 \nL 240.828188 98.598105 \nL 243.384523 110.098104 \nL 248.497193 134.823523 \nL 256.166198 172.973804 \nL 258.722533 184.468833 \nL 261.278868 194.742029 \nL 263.835203 203.668674 \nL 266.391538 211.350284 \nL 268.947873 218.067999 \nL 274.060543 230.066763 \nL 279.173213 242.066826 \nL 284.285883 254.916745 \nL 289.398553 268.034884 \nL 291.954888 274.297848 \nL 294.511223 280.134018 \nL 297.067558 285.399631 \nL 299.623893 289.990977 \nL 302.180228 293.850553 \nL 304.736563 296.968379 \nL 307.292898 299.380311 \nL 309.849233 301.162988 \nL 312.405568 302.423929 \nL 314.961903 303.286756 \nL 317.518238 303.874539 \nL 322.630908 304.639051 \nL 327.743578 305.333226 \nL 332.856248 306.270386 \nL 337.968918 307.500032 \nL 345.637923 309.454065 \nL 350.750593 310.459356 \nL 355.863263 311.097668 \nL 360.975933 311.425003 \nL 368.644938 311.585289 \nL 371.201273 311.59706 \nL 371.201273 311.59706 \n\" style=\"fill:none;stroke:#3572c6;stroke-linecap:square;stroke-width:1.2;\"/>\n   </g>\n   <g id=\"patch_30\">\n    <path d=\"M 30.314 311.616 \nL 30.314 7.2 \n\" style=\"fill:none;stroke:#d5c4a1;stroke-linecap:square;stroke-linejoin:miter;stroke-width:1.12;\"/>\n   </g>\n   <g id=\"patch_31\">\n    <path d=\"M 387.434 311.616 \nL 387.434 7.2 \n\" style=\"fill:none;stroke:#d5c4a1;stroke-linecap:square;stroke-linejoin:miter;stroke-width:1.12;\"/>\n   </g>\n   <g id=\"patch_32\">\n    <path d=\"M 30.314 311.616 \nL 387.434 311.616 \n\" style=\"fill:none;stroke:#d5c4a1;stroke-linecap:square;stroke-linejoin:miter;stroke-width:1.12;\"/>\n   </g>\n   <g id=\"patch_33\">\n    <path d=\"M 30.314 7.2 \nL 387.434 7.2 \n\" style=\"fill:none;stroke:#d5c4a1;stroke-linecap:square;stroke-linejoin:miter;stroke-width:1.12;\"/>\n   </g>\n  </g>\n </g>\n <defs>\n  <clipPath id=\"p59a9e6cc33\">\n   <rect height=\"304.416\" width=\"357.12\" x=\"30.314\" y=\"7.2\"/>\n  </clipPath>\n </defs>\n</svg>\n",
      "text/plain": [
       "<Figure size 460.8x403.2 with 1 Axes>"
      ]
     },
     "metadata": {},
     "output_type": "display_data"
    }
   ],
   "source": [
    "sns.distplot(test);"
   ]
  },
  {
   "cell_type": "code",
   "execution_count": 28,
   "metadata": {},
   "outputs": [
    {
     "data": {
      "text/plain": [
       "array([4.00017588, 0.99181232])"
      ]
     },
     "execution_count": 28,
     "metadata": {},
     "output_type": "execute_result"
    }
   ],
   "source": [
    "thetas = [1,1]\n",
    "minimize(neg_logliknorm, thetas, args=(test,), method='slsqp')['x']"
   ]
  },
  {
   "cell_type": "code",
   "execution_count": 29,
   "metadata": {},
   "outputs": [
    {
     "data": {
      "text/plain": [
       "array([ 1.10065768, 10.04439009,  0.88153485,  0.86853541])"
      ]
     },
     "execution_count": 29,
     "metadata": {},
     "output_type": "execute_result"
    }
   ],
   "source": [
    "# lets try mixture\n",
    "thetas = [1, 10, 1, 1]\n",
    "xs = np.append(np.random.normal(thetas[0], thetas[2], N), \n",
    "              np.random.normal(thetas[1], thetas[3], N))\n",
    "minimize(neg_loglik, [2,5,3.5,4.2], args=(xs,), method='slsqp')['x']\n",
    "# matches well aka, its easy peazy"
   ]
  },
  {
   "cell_type": "markdown",
   "metadata": {},
   "source": [
    "- suppose we have a 1-dimensional data denoted by $x = (x^{1}, \\ldots, x^m)$ as shown above consisting of m independent samples\n",
    "- we do not know the real labels for each data point in reality.  This introduces a latent (hidden/unobserved) variable called $z = (z^1, \\ldots, z^m)$ which is multinomial: $z^i$ indicates which distribution a specific point $x^i$ belongs to.  $Z^i$ follows a bernoulli since it can belong to one of two values\n",
    "- so goal is to fit parameters of a model $p(x,z)$.  we  have $p(x,z;\\theta)$ where only x is observed.  Goal is to maximize $l(\\theta) = \\prod_{i} p(x^i;\\theta)$.  This is the incomplete data log likelihood because we do not know the latent variable z that indiate each datapoint's membership to density which a data point belongs to.  \n",
    "- if we know which datapoint $z^i$ belongs to, then its easy to estimate the parameters\n",
    "- if we do not know, maximum likelihood doesn't work as there is no closed form solution: \n",
    "\n",
    "$$ l(\\theta) = \\prod_{i} p(x^i;\\theta) = \\prod_{i} \\sum_k^K \\pi_k N(\\mu_k, \\sigma_k^2)$$\n",
    "\n",
    "where $\\pi_k = p(z^i = k)$.  Taking loglikelihood, we see: \n",
    "\n",
    "$$ l(\\theta) = \\sum_{i} \\log{p(x^i;\\theta)} = \\sum_{i} \\log{\\sum_k^K \\pi_k N(\\mu_k, \\sigma_k^2)}$$\n",
    "\n",
    "Differentiating above wrt $\\mu_k$ gives: \n",
    "\n",
    "$$ \\sum_i \\frac{\\pi_k N(\\mu_k, \\sigma_k^2) \\frac{x^i - \\mu_k}{\\sigma_k^2}} {\\sum_{k=1}^K \\pi_k N(\\mu_k, \\sigma_k^2)} = 0$$\n",
    "\n",
    "- No way to solve for $\\mu_k$ here\n",
    "\n",
    "- EM algorithm gives an efficient way of maximizing likelihood estimation\n",
    "- maximizing $l(\\theta)$ is difficult.  We will repeatedly construct a lower bound on $l$ (E-step) and optimize\n",
    "lower bound (M-step)\n",
    "\n",
    "## EM algorithm formulation\n",
    "- $l(\\theta) = \\sum_i \\log{\\sum_{z^i} p(x^i, z^i; \\theta)} = \\sum_i \\log{\\sum_{z^i} q_i(z^i) \\frac{p(x^i, z^i; \\theta)}{q_i(z^i)}}$\n",
    "\n",
    "where $q_i(z^i)$ is arbitrary probability distribution of $z^i$ whose sum equals 1.\n",
    "- Note that: $\\frac{p(x^i, z^i; \\theta)}{q_i(z^i)}$ takes form of expectation.  Hence we see above likelihood can be rewritten as: \n",
    "\n",
    "$$l(\\theta) = \\sum_i \\log{E[\\frac{p(x^i, z^i; \\theta)}{q_i(z^i)}]}$$\n",
    "\n",
    "and by jensen's inequality, $E(f(x) >= f(E(x))$, hence: \n",
    "\n",
    "$$\\sum_i \\log{E[\\frac{p(x^i, z^i; \\theta)}{q_i(z^i)}]} >= \\sum_i q_i(z^i) \\log{\\frac{p(x^i, z^i; \\theta)}{q_i(z^i)}}$$\n",
    "- hence we have successfully created a lower bound for $l(\\theta)$.  This is not enough, we want to squeeze the lower bound as much as possible to obtain an __equality__.  So, we need: \n",
    "\n",
    "$$ \\frac{p(x^i, z^i; \\theta)}{q_i(z^i)} = c$$\n",
    "\n",
    "where c is some constant.  On way to ensure this leads to a constant is to choose $q_i(z^i) \\propto p(x^i, z^i; \\theta)$ s.t $\\sum_i q_i(z^i) = 1$.  From this, we can determine the appropriate choice of __q__:\n",
    "\n",
    "$$ q_i(z^i) = \\frac{p(x^i, z^i; \\theta)}{\\sum_{z} p(x^i,z;\\theta)} = \\frac{p(x^i, z^i; \\theta)}{p(x^i;\\theta)}$$\n",
    "\n",
    "which is just $p(Z^i | x^i; \\theta)$, the posterior density.  \n",
    "\n",
    "The posterior density, is given by: \n",
    "\n",
    "$$p(z^i = k | x^i; \\theta) = \\frac{N(\\mu_k, \\sigma_k^2) \\pi_k}{\\sum_k N(\\mu_k, \\sigma_k^2)\\pi_k} := \\gamma_{Z_i}(k)$$\n",
    "\n",
    "\n",
    "This completes the E-step where we created a lower bound.  For M step, we maximize formula utilizing jensen's equality (its a equality now since we are using a constant) wrt parameters to obtain new thetas.  Repeatedely carrying this out gives us the EM algorithm.  \n",
    "\n",
    "Substituting $\\gamma_{Z_i}(k)$ into the derivative of log-likelihood, we see: \n",
    "\n",
    "$$ \\sum_i \\gamma_{Z_i}(k) \\frac{x^i - \\mu_k}{\\sigma_k^2}$$\n",
    "\n",
    "Assume $\\gamma_{Z_i}{k}$ doesn't depend on $\\mu_k$, then solving we see...\n",
    "\n",
    "$$\\mu_k = \\sum_i \\frac{\\gamma_{Z_i}(k) x^i}{N_k}$$\n",
    "\n",
    "where $N_k = \\sum_{i=1}^n \\gamma_{Z_i}(k)$ which represents the effective number of points assigned to component k.  Hence $\\mu_k$ is weighted average of data with weights $\\gamma_{Z_i}(k)$.  Similarly, differentiating wrt $\\sigma_k^2$ and $\\pi_k$, we find....\n",
    "\n",
    "$$\\sigma_k^2 = \\frac{1}{N_k} \\sum_{i=1}^n \\gamma_{Z_i}(k) (x^i - \\mu_k)^2 $$\n",
    "\n",
    "$$\\pi_k = \\frac{N_k}{n}$$\n",
    "\n",
    "repeat until convergence: \n",
    "    \n",
    "- (E-step) for each i, set: $Q_i(z^i) := p(z^i | x^i; \\theta)$\n",
    "\n",
    "- (M-step) set $\\theta = \\underset{\\theta}{\\operatorname{argmax}} \\sum_i \\sum_{z^i} Q_i(z^i)\\log{\\frac{p(x^i, z^i; \\theta)}{Q_i(z^i)}}$\n",
    "\n",
    "- if we knew parameters, we can compute the posterior probabilities $\\gamma_{Z_i}(k)$.  \n",
    "- if we knew $\\gamma_{Z_i}(k)$, we can compute the parameters.  Hence...\n",
    "\n",
    "1) Initialize $\\mu_k$, $\\sigma_k^2$ and $pi_k$ and evaluate log-likelihood with these parameters\n",
    "\n",
    "2) E-step: evaluate posterior $\\gamma_{Z_i}(k)$ using current values of $\\mu_k$ and $\\sigma_k^2$\n",
    "\n",
    "3) M-step: estimate new parameters $\\sigma_k^2$ and $pi_k$ with current values of $\\gamma_{Z_i}(k)$ using above estimates.\n",
    "\n",
    "4) evaluate loglikelihood with new parameter estimates, if loglikelihood has chnaged by less than some small $\\epsilon$, stop.  Otherwise, go back to step 2"
   ]
  },
  {
   "cell_type": "code",
   "execution_count": 3,
   "metadata": {},
   "outputs": [],
   "source": [
    "from marketlearn.learning.mixture.gaussian_mixture import GaussianMixture"
   ]
  },
  {
   "cell_type": "code",
   "execution_count": 4,
   "metadata": {},
   "outputs": [],
   "source": [
    "gmm = GaussianMixture()"
   ]
  },
  {
   "cell_type": "code",
   "execution_count": 4,
   "metadata": {},
   "outputs": [],
   "source": [
    "X = np.random.multivariate_normal([-5, 10], [[0.5, 0], [0, 9]], 1000)\n",
    "zi = np.random.choice([0, 1], size=1000, p=[0.75, 0.25])\n",
    "xs = np.where(zi == 0, X[:, 0], X[:, 1])\n",
    "n = len(xs)\n",
    "idx = np.random.randint(low=0, high=n, size=2)\n",
    "sig1 = 1,\n",
    "sig2 = 1\n",
    "gamma = gm.gmm_estep(xs, xs[idx[0]], xs[idx[1]], sig1, sig2, 0.5)"
   ]
  },
  {
   "cell_type": "code",
   "execution_count": 5,
   "metadata": {},
   "outputs": [],
   "source": [
    "muu = np.array([xs[idx[0]], xs[idx[1]]])\n",
    "sigg = np.array([1, 1])\n",
    "prob = np.array([0.5, 0.5])\n",
    "gamma1 = gmm.estep(xs, muu, sigg,prob)"
   ]
  },
  {
   "cell_type": "code",
   "execution_count": 2,
   "metadata": {
    "tags": []
   },
   "outputs": [],
   "source": [
    "from marketlearn.learning.mixture.gaussian_mixture import GaussianMixture\n",
    "gmm = GaussianMixture(n_components=1, max_iter=20)\n",
    "xs = np.random.normal(5, 9, size=1000)\n",
    "gmm.fit(xs);"
   ]
  },
  {
   "cell_type": "code",
   "execution_count": 3,
   "metadata": {},
   "outputs": [
    {
     "data": {
      "text/html": [
       "<div>\n",
       "<style scoped>\n",
       "    .dataframe tbody tr th:only-of-type {\n",
       "        vertical-align: middle;\n",
       "    }\n",
       "\n",
       "    .dataframe tbody tr th {\n",
       "        vertical-align: top;\n",
       "    }\n",
       "\n",
       "    .dataframe thead th {\n",
       "        text-align: right;\n",
       "    }\n",
       "</style>\n",
       "<table border=\"1\" class=\"dataframe\">\n",
       "  <thead>\n",
       "    <tr style=\"text-align: right;\">\n",
       "      <th></th>\n",
       "      <th>p(z=0)</th>\n",
       "      <th>mean1</th>\n",
       "      <th>sigma1</th>\n",
       "    </tr>\n",
       "  </thead>\n",
       "  <tbody>\n",
       "    <tr>\n",
       "      <th>15</th>\n",
       "      <td>1.0</td>\n",
       "      <td>5.000545</td>\n",
       "      <td>8.983596</td>\n",
       "    </tr>\n",
       "    <tr>\n",
       "      <th>16</th>\n",
       "      <td>1.0</td>\n",
       "      <td>5.000545</td>\n",
       "      <td>8.983596</td>\n",
       "    </tr>\n",
       "    <tr>\n",
       "      <th>17</th>\n",
       "      <td>1.0</td>\n",
       "      <td>5.000545</td>\n",
       "      <td>8.983596</td>\n",
       "    </tr>\n",
       "    <tr>\n",
       "      <th>18</th>\n",
       "      <td>1.0</td>\n",
       "      <td>5.000545</td>\n",
       "      <td>8.983596</td>\n",
       "    </tr>\n",
       "    <tr>\n",
       "      <th>19</th>\n",
       "      <td>1.0</td>\n",
       "      <td>5.000545</td>\n",
       "      <td>8.983596</td>\n",
       "    </tr>\n",
       "  </tbody>\n",
       "</table>\n",
       "</div>"
      ],
      "text/plain": [
       "    p(z=0)     mean1    sigma1\n",
       "15     1.0  5.000545  8.983596\n",
       "16     1.0  5.000545  8.983596\n",
       "17     1.0  5.000545  8.983596\n",
       "18     1.0  5.000545  8.983596\n",
       "19     1.0  5.000545  8.983596"
      ]
     },
     "execution_count": 3,
     "metadata": {},
     "output_type": "execute_result"
    }
   ],
   "source": [
    "gmm.theta.tail(5)"
   ]
  },
  {
   "cell_type": "code",
   "execution_count": 4,
   "metadata": {
    "tags": []
   },
   "outputs": [],
   "source": [
    "np.random.seed(2924)\n",
    "X = np.random.multivariate_normal([-5, 10], [[0.5, 0], [0, 9]], 1000)\n",
    "zi = np.random.choice([0, 1], size=1000, p=[0.80, 0.20])\n",
    "xs = np.where(zi == 0, X[:, 0], X[:, 1])"
   ]
  },
  {
   "cell_type": "code",
   "execution_count": 5,
   "metadata": {
    "tags": []
   },
   "outputs": [],
   "source": [
    "gmm = GaussianMixture(n_components=2, max_iter=20)\n",
    "gmm.fit(xs);"
   ]
  },
  {
   "cell_type": "code",
   "execution_count": 6,
   "metadata": {},
   "outputs": [
    {
     "data": {
      "text/html": [
       "<div>\n",
       "<style scoped>\n",
       "    .dataframe tbody tr th:only-of-type {\n",
       "        vertical-align: middle;\n",
       "    }\n",
       "\n",
       "    .dataframe tbody tr th {\n",
       "        vertical-align: top;\n",
       "    }\n",
       "\n",
       "    .dataframe thead th {\n",
       "        text-align: right;\n",
       "    }\n",
       "</style>\n",
       "<table border=\"1\" class=\"dataframe\">\n",
       "  <thead>\n",
       "    <tr style=\"text-align: right;\">\n",
       "      <th></th>\n",
       "      <th>p(z=0)</th>\n",
       "      <th>p(z=1)</th>\n",
       "      <th>mean1</th>\n",
       "      <th>mean2</th>\n",
       "      <th>sigma1</th>\n",
       "      <th>sigma2</th>\n",
       "    </tr>\n",
       "  </thead>\n",
       "  <tbody>\n",
       "    <tr>\n",
       "      <th>15</th>\n",
       "      <td>0.786987</td>\n",
       "      <td>0.213013</td>\n",
       "      <td>-5.009485</td>\n",
       "      <td>10.143443</td>\n",
       "      <td>0.693684</td>\n",
       "      <td>3.297846</td>\n",
       "    </tr>\n",
       "    <tr>\n",
       "      <th>16</th>\n",
       "      <td>0.786987</td>\n",
       "      <td>0.213013</td>\n",
       "      <td>-5.009485</td>\n",
       "      <td>10.143443</td>\n",
       "      <td>0.693684</td>\n",
       "      <td>3.297846</td>\n",
       "    </tr>\n",
       "    <tr>\n",
       "      <th>17</th>\n",
       "      <td>0.786987</td>\n",
       "      <td>0.213013</td>\n",
       "      <td>-5.009485</td>\n",
       "      <td>10.143443</td>\n",
       "      <td>0.693684</td>\n",
       "      <td>3.297846</td>\n",
       "    </tr>\n",
       "    <tr>\n",
       "      <th>18</th>\n",
       "      <td>0.786987</td>\n",
       "      <td>0.213013</td>\n",
       "      <td>-5.009485</td>\n",
       "      <td>10.143443</td>\n",
       "      <td>0.693684</td>\n",
       "      <td>3.297846</td>\n",
       "    </tr>\n",
       "    <tr>\n",
       "      <th>19</th>\n",
       "      <td>0.786987</td>\n",
       "      <td>0.213013</td>\n",
       "      <td>-5.009485</td>\n",
       "      <td>10.143443</td>\n",
       "      <td>0.693684</td>\n",
       "      <td>3.297846</td>\n",
       "    </tr>\n",
       "  </tbody>\n",
       "</table>\n",
       "</div>"
      ],
      "text/plain": [
       "      p(z=0)    p(z=1)     mean1      mean2    sigma1    sigma2\n",
       "15  0.786987  0.213013 -5.009485  10.143443  0.693684  3.297846\n",
       "16  0.786987  0.213013 -5.009485  10.143443  0.693684  3.297846\n",
       "17  0.786987  0.213013 -5.009485  10.143443  0.693684  3.297846\n",
       "18  0.786987  0.213013 -5.009485  10.143443  0.693684  3.297846\n",
       "19  0.786987  0.213013 -5.009485  10.143443  0.693684  3.297846"
      ]
     },
     "execution_count": 6,
     "metadata": {},
     "output_type": "execute_result"
    }
   ],
   "source": [
    "gmm.theta.tail(5)"
   ]
  },
  {
   "cell_type": "code",
   "execution_count": 7,
   "metadata": {
    "tags": []
   },
   "outputs": [],
   "source": [
    "np.random.seed(2924)\n",
    "X = np.random.multivariate_normal([-5, 0, 10], [[0.5, 0, 0], [0, 9, 0], [0, 0, 1]], 5000)\n",
    "zi = np.random.choice([0, 1, 2], size=5000)\n",
    "xs = np.where(zi == 0, X[:, 0], np.where(zi==1, X[:, 1], X[:, 2]))"
   ]
  },
  {
   "cell_type": "code",
   "execution_count": 9,
   "metadata": {
    "tags": []
   },
   "outputs": [],
   "source": [
    "gmm = GaussianMixture(n_components=3, max_iter=50)\n",
    "gmm.fit(xs);"
   ]
  },
  {
   "cell_type": "code",
   "execution_count": 10,
   "metadata": {},
   "outputs": [
    {
     "data": {
      "text/html": [
       "<div>\n",
       "<style scoped>\n",
       "    .dataframe tbody tr th:only-of-type {\n",
       "        vertical-align: middle;\n",
       "    }\n",
       "\n",
       "    .dataframe tbody tr th {\n",
       "        vertical-align: top;\n",
       "    }\n",
       "\n",
       "    .dataframe thead th {\n",
       "        text-align: right;\n",
       "    }\n",
       "</style>\n",
       "<table border=\"1\" class=\"dataframe\">\n",
       "  <thead>\n",
       "    <tr style=\"text-align: right;\">\n",
       "      <th></th>\n",
       "      <th>p(z=0)</th>\n",
       "      <th>p(z=1)</th>\n",
       "      <th>p(z=2)</th>\n",
       "      <th>mean1</th>\n",
       "      <th>mean2</th>\n",
       "      <th>mean3</th>\n",
       "      <th>sigma1</th>\n",
       "      <th>sigma2</th>\n",
       "      <th>sigma3</th>\n",
       "    </tr>\n",
       "  </thead>\n",
       "  <tbody>\n",
       "    <tr>\n",
       "      <th>45</th>\n",
       "      <td>0.332137</td>\n",
       "      <td>0.329762</td>\n",
       "      <td>0.338101</td>\n",
       "      <td>-4.984138</td>\n",
       "      <td>0.125223</td>\n",
       "      <td>10.031427</td>\n",
       "      <td>0.701875</td>\n",
       "      <td>3.082382</td>\n",
       "      <td>1.024130</td>\n",
       "    </tr>\n",
       "    <tr>\n",
       "      <th>46</th>\n",
       "      <td>0.332119</td>\n",
       "      <td>0.329781</td>\n",
       "      <td>0.338100</td>\n",
       "      <td>-4.984158</td>\n",
       "      <td>0.124988</td>\n",
       "      <td>10.031431</td>\n",
       "      <td>0.701834</td>\n",
       "      <td>3.082535</td>\n",
       "      <td>1.024126</td>\n",
       "    </tr>\n",
       "    <tr>\n",
       "      <th>47</th>\n",
       "      <td>0.332106</td>\n",
       "      <td>0.329795</td>\n",
       "      <td>0.338099</td>\n",
       "      <td>-4.984174</td>\n",
       "      <td>0.124810</td>\n",
       "      <td>10.031435</td>\n",
       "      <td>0.701802</td>\n",
       "      <td>3.082651</td>\n",
       "      <td>1.024123</td>\n",
       "    </tr>\n",
       "    <tr>\n",
       "      <th>48</th>\n",
       "      <td>0.332095</td>\n",
       "      <td>0.329806</td>\n",
       "      <td>0.338099</td>\n",
       "      <td>-4.984186</td>\n",
       "      <td>0.124674</td>\n",
       "      <td>10.031437</td>\n",
       "      <td>0.701777</td>\n",
       "      <td>3.082739</td>\n",
       "      <td>1.024120</td>\n",
       "    </tr>\n",
       "    <tr>\n",
       "      <th>49</th>\n",
       "      <td>0.332087</td>\n",
       "      <td>0.329815</td>\n",
       "      <td>0.338098</td>\n",
       "      <td>-4.984195</td>\n",
       "      <td>0.124571</td>\n",
       "      <td>10.031439</td>\n",
       "      <td>0.701759</td>\n",
       "      <td>3.082806</td>\n",
       "      <td>1.024118</td>\n",
       "    </tr>\n",
       "  </tbody>\n",
       "</table>\n",
       "</div>"
      ],
      "text/plain": [
       "      p(z=0)    p(z=1)    p(z=2)     mean1     mean2      mean3    sigma1  \\\n",
       "45  0.332137  0.329762  0.338101 -4.984138  0.125223  10.031427  0.701875   \n",
       "46  0.332119  0.329781  0.338100 -4.984158  0.124988  10.031431  0.701834   \n",
       "47  0.332106  0.329795  0.338099 -4.984174  0.124810  10.031435  0.701802   \n",
       "48  0.332095  0.329806  0.338099 -4.984186  0.124674  10.031437  0.701777   \n",
       "49  0.332087  0.329815  0.338098 -4.984195  0.124571  10.031439  0.701759   \n",
       "\n",
       "      sigma2    sigma3  \n",
       "45  3.082382  1.024130  \n",
       "46  3.082535  1.024126  \n",
       "47  3.082651  1.024123  \n",
       "48  3.082739  1.024120  \n",
       "49  3.082806  1.024118  "
      ]
     },
     "execution_count": 10,
     "metadata": {},
     "output_type": "execute_result"
    }
   ],
   "source": [
    "gmm.theta.tail(5)"
   ]
  },
  {
   "cell_type": "code",
   "execution_count": null,
   "metadata": {},
   "outputs": [],
   "source": []
  }
 ],
 "metadata": {
  "kernelspec": {
   "display_name": "Python 3.9.13 ('neptune_env': venv)",
   "language": "python",
   "name": "python3"
  },
  "language_info": {
   "codemirror_mode": {
    "name": "ipython",
    "version": 3
   },
   "file_extension": ".py",
   "mimetype": "text/x-python",
   "name": "python",
   "nbconvert_exporter": "python",
   "pygments_lexer": "ipython3",
   "version": "3.9.13"
  },
  "orig_nbformat": 2,
  "vscode": {
   "interpreter": {
    "hash": "9e593a66f2262b62f47585b02ae3b38664f3faa8e13c94c9408b4b76c866dad8"
   }
  }
 },
 "nbformat": 4,
 "nbformat_minor": 2
}
