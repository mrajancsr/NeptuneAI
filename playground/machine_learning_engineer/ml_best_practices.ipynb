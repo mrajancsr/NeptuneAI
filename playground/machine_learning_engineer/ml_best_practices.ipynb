{
 "cells": [
  {
   "cell_type": "markdown",
   "metadata": {},
   "source": [
    "## Resampling Techniques, model selection, Assessment and evaluating hypotheses\n",
    "- Uses Notes from python for ML by Sebastian Rachka, Introduction to Statistical Learning and my own thoughts"
   ]
  },
  {
   "cell_type": "markdown",
   "metadata": {},
   "source": [
    "## Pipelines"
   ]
  },
  {
   "cell_type": "markdown",
   "metadata": {},
   "source": [
    "- In all ML models, we have to use paramters obtained via training to estimate value over test set.   \n",
    "- In Scikit-learn, Pipeline class allows us to fit an model using arbitrary number of transformation steps and apply it to new data.  "
   ]
  },
  {
   "cell_type": "markdown",
   "metadata": {},
   "source": [
    "# Wisconsin Breast Cancer Dataset\n",
    "- Contains 569 samples of malignant and benign tumor cells.  \n",
    "- column 1 and 2 store unique id numbers of the samples and the corresponding diagnosis\n",
    "- columns 3-32 contains 30 real valued features that have been compuuted from digitized images of the cell nuclei, \n",
    "which can be used to predict whether a tumor is malignant or benigh.  "
   ]
  },
  {
   "cell_type": "code",
   "execution_count": 1,
   "metadata": {},
   "outputs": [],
   "source": [
    "import pandas as pd\n",
    "from sklearn.datasets import load_breast_cancer\n",
    "data = load_breast_cancer()"
   ]
  },
  {
   "cell_type": "code",
   "execution_count": 2,
   "metadata": {},
   "outputs": [
    {
     "data": {
      "text/html": [
       "<div>\n",
       "<style scoped>\n",
       "    .dataframe tbody tr th:only-of-type {\n",
       "        vertical-align: middle;\n",
       "    }\n",
       "\n",
       "    .dataframe tbody tr th {\n",
       "        vertical-align: top;\n",
       "    }\n",
       "\n",
       "    .dataframe thead th {\n",
       "        text-align: right;\n",
       "    }\n",
       "</style>\n",
       "<table border=\"1\" class=\"dataframe\">\n",
       "  <thead>\n",
       "    <tr style=\"text-align: right;\">\n",
       "      <th></th>\n",
       "      <th>mean radius</th>\n",
       "      <th>mean texture</th>\n",
       "      <th>mean perimeter</th>\n",
       "      <th>mean area</th>\n",
       "      <th>mean smoothness</th>\n",
       "      <th>mean compactness</th>\n",
       "      <th>mean concavity</th>\n",
       "      <th>mean concave points</th>\n",
       "      <th>mean symmetry</th>\n",
       "      <th>mean fractal dimension</th>\n",
       "      <th>...</th>\n",
       "      <th>worst radius</th>\n",
       "      <th>worst texture</th>\n",
       "      <th>worst perimeter</th>\n",
       "      <th>worst area</th>\n",
       "      <th>worst smoothness</th>\n",
       "      <th>worst compactness</th>\n",
       "      <th>worst concavity</th>\n",
       "      <th>worst concave points</th>\n",
       "      <th>worst symmetry</th>\n",
       "      <th>worst fractal dimension</th>\n",
       "    </tr>\n",
       "  </thead>\n",
       "  <tbody>\n",
       "    <tr>\n",
       "      <th>0</th>\n",
       "      <td>17.99</td>\n",
       "      <td>10.38</td>\n",
       "      <td>122.80</td>\n",
       "      <td>1001.0</td>\n",
       "      <td>0.11840</td>\n",
       "      <td>0.27760</td>\n",
       "      <td>0.30010</td>\n",
       "      <td>0.14710</td>\n",
       "      <td>0.2419</td>\n",
       "      <td>0.07871</td>\n",
       "      <td>...</td>\n",
       "      <td>25.380</td>\n",
       "      <td>17.33</td>\n",
       "      <td>184.60</td>\n",
       "      <td>2019.0</td>\n",
       "      <td>0.16220</td>\n",
       "      <td>0.66560</td>\n",
       "      <td>0.7119</td>\n",
       "      <td>0.2654</td>\n",
       "      <td>0.4601</td>\n",
       "      <td>0.11890</td>\n",
       "    </tr>\n",
       "    <tr>\n",
       "      <th>1</th>\n",
       "      <td>20.57</td>\n",
       "      <td>17.77</td>\n",
       "      <td>132.90</td>\n",
       "      <td>1326.0</td>\n",
       "      <td>0.08474</td>\n",
       "      <td>0.07864</td>\n",
       "      <td>0.08690</td>\n",
       "      <td>0.07017</td>\n",
       "      <td>0.1812</td>\n",
       "      <td>0.05667</td>\n",
       "      <td>...</td>\n",
       "      <td>24.990</td>\n",
       "      <td>23.41</td>\n",
       "      <td>158.80</td>\n",
       "      <td>1956.0</td>\n",
       "      <td>0.12380</td>\n",
       "      <td>0.18660</td>\n",
       "      <td>0.2416</td>\n",
       "      <td>0.1860</td>\n",
       "      <td>0.2750</td>\n",
       "      <td>0.08902</td>\n",
       "    </tr>\n",
       "    <tr>\n",
       "      <th>2</th>\n",
       "      <td>19.69</td>\n",
       "      <td>21.25</td>\n",
       "      <td>130.00</td>\n",
       "      <td>1203.0</td>\n",
       "      <td>0.10960</td>\n",
       "      <td>0.15990</td>\n",
       "      <td>0.19740</td>\n",
       "      <td>0.12790</td>\n",
       "      <td>0.2069</td>\n",
       "      <td>0.05999</td>\n",
       "      <td>...</td>\n",
       "      <td>23.570</td>\n",
       "      <td>25.53</td>\n",
       "      <td>152.50</td>\n",
       "      <td>1709.0</td>\n",
       "      <td>0.14440</td>\n",
       "      <td>0.42450</td>\n",
       "      <td>0.4504</td>\n",
       "      <td>0.2430</td>\n",
       "      <td>0.3613</td>\n",
       "      <td>0.08758</td>\n",
       "    </tr>\n",
       "    <tr>\n",
       "      <th>3</th>\n",
       "      <td>11.42</td>\n",
       "      <td>20.38</td>\n",
       "      <td>77.58</td>\n",
       "      <td>386.1</td>\n",
       "      <td>0.14250</td>\n",
       "      <td>0.28390</td>\n",
       "      <td>0.24140</td>\n",
       "      <td>0.10520</td>\n",
       "      <td>0.2597</td>\n",
       "      <td>0.09744</td>\n",
       "      <td>...</td>\n",
       "      <td>14.910</td>\n",
       "      <td>26.50</td>\n",
       "      <td>98.87</td>\n",
       "      <td>567.7</td>\n",
       "      <td>0.20980</td>\n",
       "      <td>0.86630</td>\n",
       "      <td>0.6869</td>\n",
       "      <td>0.2575</td>\n",
       "      <td>0.6638</td>\n",
       "      <td>0.17300</td>\n",
       "    </tr>\n",
       "    <tr>\n",
       "      <th>4</th>\n",
       "      <td>20.29</td>\n",
       "      <td>14.34</td>\n",
       "      <td>135.10</td>\n",
       "      <td>1297.0</td>\n",
       "      <td>0.10030</td>\n",
       "      <td>0.13280</td>\n",
       "      <td>0.19800</td>\n",
       "      <td>0.10430</td>\n",
       "      <td>0.1809</td>\n",
       "      <td>0.05883</td>\n",
       "      <td>...</td>\n",
       "      <td>22.540</td>\n",
       "      <td>16.67</td>\n",
       "      <td>152.20</td>\n",
       "      <td>1575.0</td>\n",
       "      <td>0.13740</td>\n",
       "      <td>0.20500</td>\n",
       "      <td>0.4000</td>\n",
       "      <td>0.1625</td>\n",
       "      <td>0.2364</td>\n",
       "      <td>0.07678</td>\n",
       "    </tr>\n",
       "    <tr>\n",
       "      <th>...</th>\n",
       "      <td>...</td>\n",
       "      <td>...</td>\n",
       "      <td>...</td>\n",
       "      <td>...</td>\n",
       "      <td>...</td>\n",
       "      <td>...</td>\n",
       "      <td>...</td>\n",
       "      <td>...</td>\n",
       "      <td>...</td>\n",
       "      <td>...</td>\n",
       "      <td>...</td>\n",
       "      <td>...</td>\n",
       "      <td>...</td>\n",
       "      <td>...</td>\n",
       "      <td>...</td>\n",
       "      <td>...</td>\n",
       "      <td>...</td>\n",
       "      <td>...</td>\n",
       "      <td>...</td>\n",
       "      <td>...</td>\n",
       "      <td>...</td>\n",
       "    </tr>\n",
       "    <tr>\n",
       "      <th>564</th>\n",
       "      <td>21.56</td>\n",
       "      <td>22.39</td>\n",
       "      <td>142.00</td>\n",
       "      <td>1479.0</td>\n",
       "      <td>0.11100</td>\n",
       "      <td>0.11590</td>\n",
       "      <td>0.24390</td>\n",
       "      <td>0.13890</td>\n",
       "      <td>0.1726</td>\n",
       "      <td>0.05623</td>\n",
       "      <td>...</td>\n",
       "      <td>25.450</td>\n",
       "      <td>26.40</td>\n",
       "      <td>166.10</td>\n",
       "      <td>2027.0</td>\n",
       "      <td>0.14100</td>\n",
       "      <td>0.21130</td>\n",
       "      <td>0.4107</td>\n",
       "      <td>0.2216</td>\n",
       "      <td>0.2060</td>\n",
       "      <td>0.07115</td>\n",
       "    </tr>\n",
       "    <tr>\n",
       "      <th>565</th>\n",
       "      <td>20.13</td>\n",
       "      <td>28.25</td>\n",
       "      <td>131.20</td>\n",
       "      <td>1261.0</td>\n",
       "      <td>0.09780</td>\n",
       "      <td>0.10340</td>\n",
       "      <td>0.14400</td>\n",
       "      <td>0.09791</td>\n",
       "      <td>0.1752</td>\n",
       "      <td>0.05533</td>\n",
       "      <td>...</td>\n",
       "      <td>23.690</td>\n",
       "      <td>38.25</td>\n",
       "      <td>155.00</td>\n",
       "      <td>1731.0</td>\n",
       "      <td>0.11660</td>\n",
       "      <td>0.19220</td>\n",
       "      <td>0.3215</td>\n",
       "      <td>0.1628</td>\n",
       "      <td>0.2572</td>\n",
       "      <td>0.06637</td>\n",
       "    </tr>\n",
       "    <tr>\n",
       "      <th>566</th>\n",
       "      <td>16.60</td>\n",
       "      <td>28.08</td>\n",
       "      <td>108.30</td>\n",
       "      <td>858.1</td>\n",
       "      <td>0.08455</td>\n",
       "      <td>0.10230</td>\n",
       "      <td>0.09251</td>\n",
       "      <td>0.05302</td>\n",
       "      <td>0.1590</td>\n",
       "      <td>0.05648</td>\n",
       "      <td>...</td>\n",
       "      <td>18.980</td>\n",
       "      <td>34.12</td>\n",
       "      <td>126.70</td>\n",
       "      <td>1124.0</td>\n",
       "      <td>0.11390</td>\n",
       "      <td>0.30940</td>\n",
       "      <td>0.3403</td>\n",
       "      <td>0.1418</td>\n",
       "      <td>0.2218</td>\n",
       "      <td>0.07820</td>\n",
       "    </tr>\n",
       "    <tr>\n",
       "      <th>567</th>\n",
       "      <td>20.60</td>\n",
       "      <td>29.33</td>\n",
       "      <td>140.10</td>\n",
       "      <td>1265.0</td>\n",
       "      <td>0.11780</td>\n",
       "      <td>0.27700</td>\n",
       "      <td>0.35140</td>\n",
       "      <td>0.15200</td>\n",
       "      <td>0.2397</td>\n",
       "      <td>0.07016</td>\n",
       "      <td>...</td>\n",
       "      <td>25.740</td>\n",
       "      <td>39.42</td>\n",
       "      <td>184.60</td>\n",
       "      <td>1821.0</td>\n",
       "      <td>0.16500</td>\n",
       "      <td>0.86810</td>\n",
       "      <td>0.9387</td>\n",
       "      <td>0.2650</td>\n",
       "      <td>0.4087</td>\n",
       "      <td>0.12400</td>\n",
       "    </tr>\n",
       "    <tr>\n",
       "      <th>568</th>\n",
       "      <td>7.76</td>\n",
       "      <td>24.54</td>\n",
       "      <td>47.92</td>\n",
       "      <td>181.0</td>\n",
       "      <td>0.05263</td>\n",
       "      <td>0.04362</td>\n",
       "      <td>0.00000</td>\n",
       "      <td>0.00000</td>\n",
       "      <td>0.1587</td>\n",
       "      <td>0.05884</td>\n",
       "      <td>...</td>\n",
       "      <td>9.456</td>\n",
       "      <td>30.37</td>\n",
       "      <td>59.16</td>\n",
       "      <td>268.6</td>\n",
       "      <td>0.08996</td>\n",
       "      <td>0.06444</td>\n",
       "      <td>0.0000</td>\n",
       "      <td>0.0000</td>\n",
       "      <td>0.2871</td>\n",
       "      <td>0.07039</td>\n",
       "    </tr>\n",
       "  </tbody>\n",
       "</table>\n",
       "<p>569 rows × 30 columns</p>\n",
       "</div>"
      ],
      "text/plain": [
       "     mean radius  mean texture  mean perimeter  mean area  mean smoothness  \\\n",
       "0          17.99         10.38          122.80     1001.0          0.11840   \n",
       "1          20.57         17.77          132.90     1326.0          0.08474   \n",
       "2          19.69         21.25          130.00     1203.0          0.10960   \n",
       "3          11.42         20.38           77.58      386.1          0.14250   \n",
       "4          20.29         14.34          135.10     1297.0          0.10030   \n",
       "..           ...           ...             ...        ...              ...   \n",
       "564        21.56         22.39          142.00     1479.0          0.11100   \n",
       "565        20.13         28.25          131.20     1261.0          0.09780   \n",
       "566        16.60         28.08          108.30      858.1          0.08455   \n",
       "567        20.60         29.33          140.10     1265.0          0.11780   \n",
       "568         7.76         24.54           47.92      181.0          0.05263   \n",
       "\n",
       "     mean compactness  mean concavity  mean concave points  mean symmetry  \\\n",
       "0             0.27760         0.30010              0.14710         0.2419   \n",
       "1             0.07864         0.08690              0.07017         0.1812   \n",
       "2             0.15990         0.19740              0.12790         0.2069   \n",
       "3             0.28390         0.24140              0.10520         0.2597   \n",
       "4             0.13280         0.19800              0.10430         0.1809   \n",
       "..                ...             ...                  ...            ...   \n",
       "564           0.11590         0.24390              0.13890         0.1726   \n",
       "565           0.10340         0.14400              0.09791         0.1752   \n",
       "566           0.10230         0.09251              0.05302         0.1590   \n",
       "567           0.27700         0.35140              0.15200         0.2397   \n",
       "568           0.04362         0.00000              0.00000         0.1587   \n",
       "\n",
       "     mean fractal dimension  ...  worst radius  worst texture  \\\n",
       "0                   0.07871  ...        25.380          17.33   \n",
       "1                   0.05667  ...        24.990          23.41   \n",
       "2                   0.05999  ...        23.570          25.53   \n",
       "3                   0.09744  ...        14.910          26.50   \n",
       "4                   0.05883  ...        22.540          16.67   \n",
       "..                      ...  ...           ...            ...   \n",
       "564                 0.05623  ...        25.450          26.40   \n",
       "565                 0.05533  ...        23.690          38.25   \n",
       "566                 0.05648  ...        18.980          34.12   \n",
       "567                 0.07016  ...        25.740          39.42   \n",
       "568                 0.05884  ...         9.456          30.37   \n",
       "\n",
       "     worst perimeter  worst area  worst smoothness  worst compactness  \\\n",
       "0             184.60      2019.0           0.16220            0.66560   \n",
       "1             158.80      1956.0           0.12380            0.18660   \n",
       "2             152.50      1709.0           0.14440            0.42450   \n",
       "3              98.87       567.7           0.20980            0.86630   \n",
       "4             152.20      1575.0           0.13740            0.20500   \n",
       "..               ...         ...               ...                ...   \n",
       "564           166.10      2027.0           0.14100            0.21130   \n",
       "565           155.00      1731.0           0.11660            0.19220   \n",
       "566           126.70      1124.0           0.11390            0.30940   \n",
       "567           184.60      1821.0           0.16500            0.86810   \n",
       "568            59.16       268.6           0.08996            0.06444   \n",
       "\n",
       "     worst concavity  worst concave points  worst symmetry  \\\n",
       "0             0.7119                0.2654          0.4601   \n",
       "1             0.2416                0.1860          0.2750   \n",
       "2             0.4504                0.2430          0.3613   \n",
       "3             0.6869                0.2575          0.6638   \n",
       "4             0.4000                0.1625          0.2364   \n",
       "..               ...                   ...             ...   \n",
       "564           0.4107                0.2216          0.2060   \n",
       "565           0.3215                0.1628          0.2572   \n",
       "566           0.3403                0.1418          0.2218   \n",
       "567           0.9387                0.2650          0.4087   \n",
       "568           0.0000                0.0000          0.2871   \n",
       "\n",
       "     worst fractal dimension  \n",
       "0                    0.11890  \n",
       "1                    0.08902  \n",
       "2                    0.08758  \n",
       "3                    0.17300  \n",
       "4                    0.07678  \n",
       "..                       ...  \n",
       "564                  0.07115  \n",
       "565                  0.06637  \n",
       "566                  0.07820  \n",
       "567                  0.12400  \n",
       "568                  0.07039  \n",
       "\n",
       "[569 rows x 30 columns]"
      ]
     },
     "execution_count": 2,
     "metadata": {},
     "output_type": "execute_result"
    }
   ],
   "source": [
    "pd.DataFrame(data.data, columns=data.feature_names)"
   ]
  },
  {
   "cell_type": "markdown",
   "metadata": {},
   "source": []
  },
  {
   "cell_type": "code",
   "execution_count": 3,
   "metadata": {},
   "outputs": [
    {
     "data": {
      "text/plain": [
       "0      malignant\n",
       "1      malignant\n",
       "2      malignant\n",
       "3      malignant\n",
       "4      malignant\n",
       "         ...    \n",
       "564    malignant\n",
       "565    malignant\n",
       "566    malignant\n",
       "567    malignant\n",
       "568       benign\n",
       "Length: 569, dtype: object"
      ]
     },
     "execution_count": 3,
     "metadata": {},
     "output_type": "execute_result"
    }
   ],
   "source": [
    "pd.Series(data.target).map(lambda x: data.target_names[x])"
   ]
  },
  {
   "cell_type": "code",
   "execution_count": 4,
   "metadata": {},
   "outputs": [],
   "source": [
    "# Next use labelEncoder to encode the class labels\n",
    "X = data.data\n",
    "y = data.target"
   ]
  },
  {
   "cell_type": "code",
   "execution_count": 5,
   "metadata": {},
   "outputs": [],
   "source": [
    "# we don't really need to use LabelEncoder as its already encoded\n",
    "from sklearn.preprocessing import LabelEncoder\n",
    "y = pd.Series(data.target).map(lambda x: data.target_names[x])\n",
    "le = LabelEncoder()\n",
    "y = le.fit_transform(y)\n"
   ]
  },
  {
   "cell_type": "code",
   "execution_count": 6,
   "metadata": {},
   "outputs": [
    {
     "data": {
      "text/plain": [
       "array([0, 1])"
      ]
     },
     "execution_count": 6,
     "metadata": {},
     "output_type": "execute_result"
    }
   ],
   "source": [
    "le.transform(['benign', 'malignant'])"
   ]
  },
  {
   "cell_type": "code",
   "execution_count": 7,
   "metadata": {},
   "outputs": [],
   "source": [
    "from sklearn.model_selection import train_test_split\n",
    "\n",
    "X_dev, X_test, y_dev, y_test = train_test_split(X, y, test_size=0.2, stratify=y, random_state=1)"
   ]
  },
  {
   "cell_type": "markdown",
   "metadata": {},
   "source": [
    "## Combining transformers and estimators in a pipeline\n",
    "- many ML models require input features on same scale for optimal performance.  (Why?)\n",
    "- suppose we standardize the columns before feeding them to linear classifier.  \n",
    "- Also we want to do feature extraction by performing a pca on the dataset prior to feeding it to logistic regression model  "
   ]
  },
  {
   "cell_type": "code",
   "execution_count": 8,
   "metadata": {},
   "outputs": [],
   "source": [
    "from random import random\n",
    "from sklearn.preprocessing import StandardScaler\n",
    "from sklearn.decomposition import PCA\n",
    "from sklearn.linear_model import LogisticRegression\n",
    "from sklearn.pipeline import make_pipeline\n",
    "\n",
    "pipe_lr = make_pipeline(StandardScaler(), PCA(n_components=2), LogisticRegression(random_state=1))\n",
    "pipe_lr.fit(X_dev, y_dev)\n",
    "y_pred = pipe_lr.predict(X_test)\n"
   ]
  },
  {
   "cell_type": "code",
   "execution_count": 9,
   "metadata": {},
   "outputs": [
    {
     "data": {
      "text/plain": [
       "array([1, 0, 0, 1, 0, 1, 1, 1, 0, 0, 0, 0, 1, 0, 1, 0, 0, 0, 1, 0, 1, 0,\n",
       "       0, 1, 1, 0, 0, 0, 0, 0, 0, 0, 0, 0, 0, 0, 0, 0, 0, 1, 1, 1, 0, 0,\n",
       "       0, 0, 1, 1, 1, 0, 1, 1, 1, 0, 0, 0, 0, 1, 0, 0, 0, 1, 1, 0, 0, 1,\n",
       "       1, 0, 0, 0, 0, 0, 1, 0, 1, 1, 0, 0, 1, 0, 0, 0, 0, 0, 0, 1, 0, 0,\n",
       "       1, 1, 1, 0, 1, 1, 0, 0, 0, 0, 0, 0, 0, 0, 0, 1, 0, 0, 1, 1, 0, 0,\n",
       "       0, 0, 0, 1])"
      ]
     },
     "execution_count": 9,
     "metadata": {},
     "output_type": "execute_result"
    }
   ],
   "source": [
    "y_pred"
   ]
  },
  {
   "cell_type": "code",
   "execution_count": 10,
   "metadata": {},
   "outputs": [
    {
     "name": "stdout",
     "output_type": "stream",
     "text": [
      "test accuracy: 0.956140350877193\n"
     ]
    }
   ],
   "source": [
    "print(f\"test accuracy: {pipe_lr.score(X_test, y_test)}\")"
   ]
  },
  {
   "cell_type": "markdown",
   "metadata": {},
   "source": [
    "# Analysis\n",
    "- When you use make_pipeline, it takes arbitrary number of transformers (objects with fit and transorm methods) and as last parameter, it takes an estimator\n",
    "- In preceding example, we provided two transformers, StandardScaler() and PCA() and LogisticRegression is the estimator\n",
    "- When you call fit method of pipeline, data is passed through a series of transformations until it finally arrives to the estimator.  The estimator is then fitted on this transformed data\n",
    "- In above example, LogisticRegression is fitted on training examples that has gone through a series of transformations via standard scaler and pca.  \n",
    "- When data is passed to predict method of pipeline, that data goes through a series of transformation such as standard scalar and pca.  in final step, estimator will return prediction on transformed data, $D_{Dev}$ or $D_{Test}$"
   ]
  },
  {
   "cell_type": "markdown",
   "metadata": {},
   "source": [
    "## Resampling\n",
    "- Repeatedly draw samples from training set and fit a model on each sample in order to obtain better information about the fitted model\n",
    "- Why is this important?  Suppose we fit a linear regression model on full data and wanted to assess variability of the fits.  \n",
    "- One way to assess the variability of the fits is to repeatedly draw samples from the data fit a linear regression on each sample and assess the variability of the fits\n",
    "- Hence we can get far more information than would not be possible had we fit the model only once using original training sample\n",
    "\n",
    "## Two most commonly used resampling methods\n",
    "- Cross-Validation\n",
    "    - estimates test error rate associated with a given statistical learning method to evaluate its performance\n",
    "    - Model Assessment: process of evaluating model's performance on $D_{Val}$\n",
    "    - Model Selection: process of selecting proper level of flexibility also based on $D_{Val}$\n",
    "- Bootstrap\n",
    "    - Provides measure of accuracy of a parameter's estimate of a given statistical model"
   ]
  },
  {
   "cell_type": "markdown",
   "metadata": {},
   "source": [
    "## Cross-Validation\n",
    "- basic idea is we need to estimate performance of a model on data not seen before.  \n",
    "- Best way to approximate performance of a model on data it has not seen before (called model's generelization performance) is to fit on $D_{Dev}$ and evaluate it on $D_{Val}$\n",
    "- Then choose the best performing model (what is best?  model with lowest error rate or highest $R^2$ in case of linear regression)\n",
    "\n",
    "## Holdout Method\n",
    "- randomly divide Data $D$ into 3 parts, $D_{Dev}$, $D_{Val}$ and $D_{Test}$\n",
    "- Fit hypothesis $h_1(\\theta)$, $h_2(\\theta)$, $h_3(\\theta)$, $...$, $h_m(\\theta)$ on $D_{Dev}$\n",
    "- Evaluate all the m hypotheses on the validation data set $D_{Val}$ and choose the one with the lowest error rate (Hence, validation data is used for model selection)\n",
    "- Finally, use the $h_{Optim}(\\theta)$ to predict values on test set and error rate on $D_{Test}$.  This error serves as an estimate of generalizaton error for future unseen data\n",
    "\n",
    "## Disadvantage of Holdout Method\n",
    "- sensitive to how we actually split the data.  If class labels are imbalanced, it won't provide a good estimate of model's generalization error.  \n",
    "\n",
    "\n",
    "## Leave-One-Out-Cross-Validation (LOOCV) Algorithm \n",
    "#### __(Recommended to use when number of examples is small)__\n",
    "- Formulate an ansatz on the possible m hypotheses.  Pick the first hypothesis $h_1(\\theta)$ and split the training set into two parts, $D_{dev}$ and $D_{Val}$\n",
    "- assign $(x^1, y^1)$ for validation set\n",
    "- fit a hypothesis $h^1_\\theta (x)$ on $D_{dev} \\setminus (x^1, y^1)$\n",
    "- predict the first observation $h^1_\\theta (x^1)$ = $\\hat{y^1}$ using the excluded observation in validation set\n",
    "- Compute $Error_1 = Loss(y^1, h_{\\theta}(x^1))$  This is the unbiased estimate of test error\n",
    "- But even if the error is unbiased, its highly variable since its using only a single observation.  Hence a poor estimate\n",
    "- Repeat the above steps, but this time, take out $(x^2, y^2)$ and place it in $D_{Val}$ and fit a hypothesis $h^2_{\\theta} (x)$ on $D_{dev} \\setminus (x^2, y^2)$\n",
    "- Then make prediction $h^2_\\theta (x^2)$ = $\\hat{y^2}$ and estimate $Error_2 = Loss(y^2, h_{\\theta}(x^2))$ \n",
    "- Hence we get $Error_1, Error_2, ..., Error_n$\n",
    "- The estimate of the true test Error is then average of all these errors: \n",
    "  \n",
    "  $LOOCV_1(n) = \\frac{1}{n} \\sum \\limits _{i=1} ^{n}{Error_i}$\n",
    "\n",
    "  #### Model Selection\n",
    "  - Once LOOCV(n) estimate is computed for a particular hypothesis $h_1(\\theta)$\n",
    "  - Repeat the above steps for $h_2(\\theta)$, $h_3(\\theta)$, $h_4(\\theta)$, $...$, $h_m(\\theta)$ \n",
    "  - Choose the hypothesis with the lowest $LOOCV(n)$ estimate and call this $h_{Optim}(\\theta)$ \n",
    "  - ReFit the hypothesis $h_{Optim}(\\theta)$ on $D_{Dev}$ that contains all the samples to estimate the generalization error on the test set\n",
    "  - In regresion or polynomial regression, there is a shortcut to make LOOCV cost the same as a single fit, \n",
    "\n",
    "    $LOOCV(n) \\approx \\frac{1}{n} \\sum (\\frac{y^i - \\hat{y^i}}{1-h^i})^2$\n",
    "\n",
    "    where $h^i$ is leverage of ith error (leverage is amount an observation influences its own fit) and lies between 1/n and 1\n",
    "\n",
    "  #### Advantages of LOOCV\n",
    "  - less bias than HoldOut Method since we repeatedly fit a hypothesis using data that contains n-1 observations which is almost the entire data\n",
    "  - In holdout, we use half the data in development and validation sets.  This is randomized.  Hence we get different results based on how data is split\n",
    "  - In LOOCV, no matter how we split the data, the final hypothesis is consistent with training examples and has the least generalizaton error.  \n",
    "  - Does not overestimate test error rate like hold-out method does\n",
    "\n",
    "  #### Disadvantages of LOOCV\n",
    "  - Computationally intensive.  If we hae m hypotheses, each of which is fit n times.  Hence $T(n) \\sim O(mn) $\n",
    "\n",
    "  ## K-Fold Cross Validation\n",
    "- Formulate an ansatz on the possible m hypotheses.  Pick the first hypothesis $h_1(\\theta)$\n",
    "- Randomly split the Data $D$ into two halves, $D_{Dev}$ and $D_{Test}$\n",
    "- Further Split $D_{Dev}$ into k folds, $D_{Dev} = D_1 \\cup D_2 \\cup ... \\cup D_k$\n",
    "- while k > 0:\n",
    "    -  Choose $D_k$ as held out set\n",
    "    -  Fit the hypothesis $h^k(\\theta)$ on $D_{Dev}\\setminus D_k$\n",
    "    -  Compute error on held out set, $Error_k = \\frac{1}{|D_k|} \\sum_{x,y \\in D_k} Loss(y, h_{\\theta}(x))$\n",
    "    -  Set $k \\leftarrow k - 1$\n",
    "- Hence we have $Error_1, Error_2, ..., Error_k$\n",
    "- Then we compute the k-fold Cross Validation estimate of test error: \n",
    "\n",
    "  $CV_k = \\frac{1}{k} \\sum_{i=1}^k Error_i$\n",
    "\n",
    "- Once $CV_k$ estimate is computed for a particular hypothesis $h_1(\\theta)$\n",
    "- Repeat the above steps for $h_2(\\theta)$, $h_3(\\theta)$, $h_4(\\theta)$, $...$, $h_m(\\theta)$ \n",
    "- Choose the hypothesis with the lowest $CV_k$ estimate and call this $h_{Optim}(\\theta)$ \n",
    "- ReFit the hypothesis $h_{Optim}(\\theta)$ on $D_{Dev}$ that contains all the samples to estimate the generalization error on the test set\n",
    "\n",
    "## Observation\n",
    "- When $k=n$, this is same as leave one out cross validation.  \n",
    "- In practice, use $k=10$ or $k=5$.  Don't use $k=n$ as its computationally intensive unless its linear or quadratic regression, in which case use the short-cut method posted above.  \n",
    "- Larger k, more accurate the estimator.  \n",
    "- Both LOOCV and K-fold underestimate true test error rates although they get the U shape property of test errors correct and hence also get correct degree of polynomial (if we are plotting error vs flexibility)\n",
    "\n",
    "## Advantage of k-fold CV \n",
    "#### __(Recommended to use when number of examples is large)__\n",
    "- When k < n, has computational advantage to LOOCV\n",
    "- gives more accurate estimates of test Error than LOOCV due to bias-variance tradeoff\n",
    "  - hold out approach leads to over estimation of test error since the hypothesis only learns from 1/2 of the Dataset\n",
    "  - LOOCV will give unbiased estimate of test error since each development set contains n-1 training instances\n",
    "  - k-fold will give intermediate bias since training set contains $D_{Dev} \\setminus D_k$ samples which is much fewer than LOOCV, but higher than hold-out approach\n",
    "  - if bias reduction is the goal, use LOOCV.  \n",
    "  - LOOCV test error estimates have higher variance than k-fold (Why?)\n",
    "  - This is because when performing LOOCV, for a particular hypothesis, we have to fit this model n times.  Hence, there are n fitted models, each of which are trained using identical dataset.  Hence correlation among fitted hypothesis is high, hence we have large covariance matrix, therefore variance is high.  \n",
    "  - But when performing k-fold, we are averaging errors from k-fitted models for a partciular hypothesis, where the hypothesis is trained on datasets that are less in common.  \n",
    "\n",
    "## Stratified k-fold\n",
    "- yields better bias and variance estimates of test errors especially in cases of unequal class distribution.  \n",
    "- class proportion is preserved in each fold to ensure that each fold is representative of the class proportions in the training set\n"
   ]
  },
  {
   "cell_type": "code",
   "execution_count": 11,
   "metadata": {},
   "outputs": [],
   "source": [
    "from sklearn.model_selection import StratifiedKFold\n",
    "from sklearn.model_selection import train_test_split\n",
    "\n",
    "X_dev, X_test, y_dev, y_test = train_test_split(X, y, test_size=0.2, stratify=y, random_state=1)\n",
    "kfold = StratifiedKFold(n_splits=10).split(X_dev, y_dev)\n",
    "\n"
   ]
  },
  {
   "cell_type": "code",
   "execution_count": 12,
   "metadata": {},
   "outputs": [],
   "source": [
    "class Folds:\n",
    "    def __init__(self, dev_index, val_index):\n",
    "        self.dev_index = dev_index\n",
    "        self.val_index = val_index \n",
    "\n"
   ]
  },
  {
   "cell_type": "code",
   "execution_count": 13,
   "metadata": {},
   "outputs": [],
   "source": [
    "folds = []\n",
    "for dev, val in kfold:\n",
    "   folds.append(Folds(dev_index = dev, val_index = val))\n"
   ]
  },
  {
   "cell_type": "code",
   "execution_count": 14,
   "metadata": {},
   "outputs": [
    {
     "data": {
      "text/plain": [
       "10"
      ]
     },
     "execution_count": 14,
     "metadata": {},
     "output_type": "execute_result"
    }
   ],
   "source": [
    "len(folds)"
   ]
  },
  {
   "cell_type": "code",
   "execution_count": 15,
   "metadata": {},
   "outputs": [
    {
     "name": "stdout",
     "output_type": "stream",
     "text": [
      "score: 0.935\n",
      "score: 0.935\n",
      "score: 0.957\n",
      "score: 0.957\n",
      "score: 0.935\n",
      "score: 0.956\n",
      "score: 0.978\n",
      "score: 0.933\n",
      "score: 0.956\n",
      "score: 0.956\n"
     ]
    }
   ],
   "source": [
    "scores = []\n",
    "pipe_lr = make_pipeline(StandardScaler(), PCA(n_components=2), LogisticRegression(random_state=1))\n",
    "for fold in folds:\n",
    "    pipe_lr.fit(X_dev[fold.dev_index], y_dev[fold.dev_index])\n",
    "    score = pipe_lr.score(X_dev[fold.val_index], y_dev[fold.val_index])\n",
    "    print(f\"score: {(score):.3f}\")\n",
    "    scores.append(score)"
   ]
  },
  {
   "cell_type": "code",
   "execution_count": 16,
   "metadata": {},
   "outputs": [
    {
     "data": {
      "text/plain": [
       "(0.9495169082125603, 0.013854294239660376)"
      ]
     },
     "execution_count": 16,
     "metadata": {},
     "output_type": "execute_result"
    }
   ],
   "source": [
    "import numpy as np\n",
    "np.average(scores), np.std(scores)"
   ]
  },
  {
   "cell_type": "markdown",
   "metadata": {},
   "source": [
    "Hence, for the above logistic regression, average accuracy score is 95%\n",
    "- Sklearn has a short cut way of estimating score of each learning algorithm\n",
    "- n_jobs parameter allows us to distribute work across cpus, here 1 is chosen.  if you choose 2, 5 folds are evaluted in 1 cpu and other 5 in the other cpu\n",
    "- setting n_jobs=-1 uses all available cpus in ur computer"
   ]
  },
  {
   "cell_type": "code",
   "execution_count": 17,
   "metadata": {},
   "outputs": [],
   "source": [
    "from sklearn.model_selection import cross_val_score\n",
    "\n",
    "scores_check = cross_val_score(estimator=pipe_lr,\n",
    "X=X_dev,\n",
    "y=y_dev,\n",
    "cv=10,\n",
    "n_jobs=2)"
   ]
  },
  {
   "cell_type": "code",
   "execution_count": 18,
   "metadata": {},
   "outputs": [
    {
     "data": {
      "text/plain": [
       "True"
      ]
     },
     "execution_count": 18,
     "metadata": {},
     "output_type": "execute_result"
    }
   ],
   "source": [
    "np.array_equal(np.array(scores), scores_check)"
   ]
  },
  {
   "cell_type": "markdown",
   "metadata": {},
   "source": [
    "## Debugging Algorithms with Learning and Validation Curves\n",
    "- learning curves and validation curves help us improve performance of a machine learning model.  \n",
    "- learning curves helps determine if model has high variance (over-fitting) or underfitting (high bias)\n",
    "- Recall that whatever hypothesis we select (regression problems), the expected test error can be decomposed into three terms:\n",
    "\n",
    "$E((y^o - \\hat{h}_\\theta(x^o))^2) = \\sigma_\\epsilon^2 + Var(\\hat{h}(x^o)) + Bias(\\hat{h}(x^o))^2$\n",
    "\n",
    "where $(x^o, y^o) \\in D_{Test}$\n",
    "\n",
    "- As flexibility increases, variances increases, but bias will decrease.  Rate at which these two properties compete affects the test Error\n",
    "\n",
    "### Learning Curve\n",
    "- plot of model performance P over experience E or time T\n",
    "- Performance during development and validation datasets can be used to diagnose underfit, overfit or well-fit model\n",
    "- helps diagnose whether development set and validation datasets are not relatively reprentative of the problem domain\n",
    "\n",
    "\n",
    "Sometimes, it helps to collect more examples to reduce degree of overfitting.  But this is usually more exepensive or not feasible\n",
    "- Learning curves can help determine if collection of more data is needed or not.  \n",
    "\n",
    "Rules\n",
    "- if accuracy during development and during validtion is less than desired accuracy, then underfitting has occured (high bias).  Increase the number of parameters in the model by constructing additional fetures, or decreasing degree of regularization (for SVM and Logistic Classifiers)\n",
    "- if accuracy during development is greater than desired accuracy, but accuracy in validation set is less than desired, then overfitting has occured (high variance).  To address this, we either collect more training data, reduce complexity of the model by removing features or increase regularizatin parameter or using feature selection or extraction for unregularized models.  Collecting more data tends to decrease change of overfitting, but it may not help if development data is noisy or model is close to being optimal.  \n",
    "- Good bias variance trade off is when the two curves converge.  "
   ]
  },
  {
   "cell_type": "code",
   "execution_count": 30,
   "metadata": {},
   "outputs": [],
   "source": [
    "from sklearn.model_selection import learning_curve, validation_curve\n",
    "import numpy as np\n",
    "import matplotlib.pyplot as plt \n",
    "\n",
    "def plot_learning_curve(\n",
    "    estimator=None, X=None, y=None, cv=5, train_sizes=None, scoring=None\n",
    "):\n",
    "    dev_sizes, dev_scores, val_scores = learning_curve(\n",
    "        estimator=estimator,\n",
    "        X=X,\n",
    "        y=y,\n",
    "        train_sizes=train_sizes,\n",
    "        cv=cv,\n",
    "        n_jobs=1,\n",
    "        scoring=scoring,\n",
    "    )\n",
    "\n",
    "    train_mean = np.mean(dev_scores, axis=1)\n",
    "    train_std = np.std(dev_scores, axis=1)\n",
    "    test_mean = np.mean(val_scores, axis=1)\n",
    "    test_std = np.std(val_scores, axis=1)\n",
    "\n",
    "    plt.grid()\n",
    "    plt.plot(\n",
    "        dev_sizes,\n",
    "        train_mean,\n",
    "        color=\"red\",\n",
    "        marker=\"o\",\n",
    "        markersize=5,\n",
    "        label=\"Development Set Accuracy\",\n",
    "    )\n",
    "\n",
    "    plt.fill_between(\n",
    "        dev_sizes,\n",
    "        train_mean + train_std,\n",
    "        train_mean - train_std,\n",
    "        alpha=0.15,\n",
    "        color=\"red\",\n",
    "    )\n",
    "\n",
    "    plt.plot(\n",
    "        dev_sizes,\n",
    "        test_mean,\n",
    "        color=\"green\",\n",
    "        linestyle=\"--\",\n",
    "        marker=\"s\",\n",
    "        markersize=5,\n",
    "        label=\"Validation Set Accuracy\",\n",
    "    )\n",
    "\n",
    "    plt.fill_between(\n",
    "        dev_sizes,\n",
    "        test_mean + test_std,\n",
    "        test_mean - test_std,\n",
    "        alpha=0.15,\n",
    "        color=\"green\",\n",
    "    )\n",
    "    plt.xlabel(\"Number of training samples\")\n",
    "    plt.ylabel(\"Accuracy\")\n",
    "    plt.ylim([0.8, 1.02])\n",
    "    plt.legend(loc=\"lower right\")"
   ]
  },
  {
   "cell_type": "code",
   "execution_count": 35,
   "metadata": {},
   "outputs": [
    {
     "data": {
      "image/png": "[encoded data removed]",
      "text/plain": [
       "<Figure size 640x480 with 1 Axes>"
      ]
     },
     "metadata": {},
     "output_type": "display_data"
    }
   ],
   "source": [
    "estimator = make_pipeline(StandardScaler(), LogisticRegression(penalty='l2', max_iter=200))\n",
    "plot_learning_curve(estimator=estimator, X=X_dev, y=y_dev, train_sizes=np.linspace(0.1, 1.0, 10), scoring='accuracy');"
   ]
  },
  {
   "cell_type": "markdown",
   "metadata": {},
   "source": [
    "- Sklearn's plot learning curve uses stratified cross-validation to compute the scores in learning curves.  \n",
    "- Hence we just get the scores from dev and validation sets using this function and plot them as function of number of training examples\n",
    "- Notice that as number of samples decrease from 250 and less, development set accuracy is higher than validation set accuracy indicating overfitting.  As we increase sample size, about 250, theres less overfitting"
   ]
  },
  {
   "cell_type": "markdown",
   "metadata": {},
   "source": [
    "## Validation Curves - Helps address over and underfitting\n",
    "- addresses issues related to overfitting and underfitting.  \n",
    "- instead of plotting dev accuracy and validation accuracy as functions of sample size, we vary vavlues of the model parameters\n",
    "\n"
   ]
  },
  {
   "cell_type": "code",
   "execution_count": 36,
   "metadata": {},
   "outputs": [],
   "source": [
    "def plot_validation_curve(\n",
    "    estimator=None,\n",
    "    X=None,\n",
    "    y=None,\n",
    "    param_range=[0.001, 0.01, 0.1, 1.0, 10.0, 100.0],\n",
    "    param_name=None,\n",
    "    cv=5,\n",
    "    scoring=None,\n",
    "):\n",
    "\n",
    "    train_scores, test_scores = validation_curve(\n",
    "        estimator=estimator,\n",
    "        X=X,\n",
    "        y=y,\n",
    "        param_name=param_name,\n",
    "        param_range=param_range,\n",
    "        cv=cv,\n",
    "        scoring=None,\n",
    "    )\n",
    "\n",
    "    train_mean = np.mean(train_scores, axis=1)\n",
    "    train_std = np.std(train_scores, axis=1)\n",
    "    test_mean = np.mean(test_scores, axis=1)\n",
    "    test_std = np.std(test_scores, axis=1)\n",
    "\n",
    "    plt.plot(\n",
    "        param_range,\n",
    "        train_mean,\n",
    "        color=\"blue\",\n",
    "        marker=\"o\",\n",
    "        markersize=5,\n",
    "        label=\"training accuracy\",\n",
    "    )\n",
    "\n",
    "    plt.fill_between(\n",
    "        param_range,\n",
    "        train_mean + train_std,\n",
    "        train_mean - train_std,\n",
    "        alpha=0.15,\n",
    "        color=\"blue\",\n",
    "    )\n",
    "\n",
    "    plt.plot(\n",
    "        param_range,\n",
    "        test_mean,\n",
    "        color=\"green\",\n",
    "        linestyle=\"--\",\n",
    "        marker=\"s\",\n",
    "        markersize=5,\n",
    "        label=\"validation accuracy\",\n",
    "    )\n",
    "\n",
    "    plt.fill_between(\n",
    "        param_range,\n",
    "        test_mean + test_std,\n",
    "        test_mean - test_std,\n",
    "        alpha=0.15,\n",
    "        color=\"green\",\n",
    "    )\n",
    "\n",
    "    plt.grid()\n",
    "    plt.xscale(\"log\")\n",
    "    plt.legend(loc=\"lower right\")\n",
    "    plt.ylim([0.8, 1.03])\n",
    "    plt.xlabel(\"Parameter: {}\".format(param_name))\n",
    "    plt.ylabel(\"Accuracy\")"
   ]
  },
  {
   "cell_type": "code",
   "execution_count": 37,
   "metadata": {},
   "outputs": [
    {
     "data": {
      "image/png": "[encoded data removed]",
      "text/plain": [
       "<Figure size 640x480 with 1 Axes>"
      ]
     },
     "metadata": {},
     "output_type": "display_data"
    }
   ],
   "source": [
    "plot_validation_curve(estimator=estimator, X=X_dev, y=y_dev, param_name='logisticregression__C', scoring='accuracy');"
   ]
  },
  {
   "cell_type": "markdown",
   "metadata": {},
   "source": [
    "- validation_curve uses stratified k-fold by default to estimate performance of classifier\n",
    "- we chose $ C = \\frac{1}{\\lambda}$ parameter to evaluate, which is the inverse regularization parameter of LogisticRegression\n",
    "- Model overfits the data as we increase regularization parameter as regularization becomes weaker.  Sweet spot is where C is between 0.01 and 0.1"
   ]
  },
  {
   "cell_type": "markdown",
   "metadata": {},
   "source": [
    "## Fine-tuning ML Models via grid search\n",
    "- In ML models, there are two parameters.  \n",
    "    - Those that are to be estimated as part of the learning process from data\n",
    "    - Those that are part of the model itself (like regularization parameter C or depth of decision tree).  This is called tuning or hyperparameter\n",
    "- Validation curve helps improve performance of a ML model by tuning one of the model's hyperparameter\n",
    "- Grid Search is hyperparameter optimization technique that can help improve performance of a ML model by finding optimal combination of hyperparameter values\n",
    "- Grid Search is a brute force exhaustive search where we specify a list of values for different hyperparameters and computer evalutes model's performance for each combination of those \n",
    "to obtain optimal combination of values from this set\n"
   ]
  },
  {
   "cell_type": "code",
   "execution_count": 39,
   "metadata": {},
   "outputs": [],
   "source": [
    "from sklearn.model_selection import GridSearchCV\n",
    "\n",
    "from sklearn.svm import SVC\n",
    "\n",
    "pipe_svc = make_pipeline(StandardScaler(), SVC(random_state=1))\n",
    "param_range = [0.0001, 0.001, 0.01, 0.1, 1.0, 10.0, 100.0, 1000.0]\n",
    "param_grid = [{'svc__C': param_range,\n",
    "'svc__kernel': ['linear']},\n",
    "{'svc__C': param_range,\n",
    "'svc__gamma': param_range,\n",
    "'svc__kernel': ['rbf']}]\n",
    "\n",
    "gs = GridSearchCV(estimator=pipe_svc, param_grid=param_grid, scoring='accuracy', cv=10, n_jobs=-1)\n",
    "gs.fit(X_dev, y_dev);"
   ]
  },
  {
   "cell_type": "code",
   "execution_count": 40,
   "metadata": {},
   "outputs": [
    {
     "data": {
      "text/plain": [
       "0.9846859903381642"
      ]
     },
     "execution_count": 40,
     "metadata": {},
     "output_type": "execute_result"
    }
   ],
   "source": [
    "gs.best_score_"
   ]
  },
  {
   "cell_type": "code",
   "execution_count": 41,
   "metadata": {},
   "outputs": [
    {
     "data": {
      "text/plain": [
       "{'svc__C': 100.0, 'svc__gamma': 0.001, 'svc__kernel': 'rbf'}"
      ]
     },
     "execution_count": 41,
     "metadata": {},
     "output_type": "execute_result"
    }
   ],
   "source": [
    "gs.best_params_"
   ]
  },
  {
   "cell_type": "code",
   "execution_count": 42,
   "metadata": {},
   "outputs": [],
   "source": [
    "clf = gs.best_estimator_\n"
   ]
  },
  {
   "cell_type": "code",
   "execution_count": 44,
   "metadata": {},
   "outputs": [
    {
     "data": {
      "text/plain": [
       "0.9736842105263158"
      ]
     },
     "execution_count": 44,
     "metadata": {},
     "output_type": "execute_result"
    }
   ],
   "source": [
    "clf.fit(X_dev, y_dev);\n",
    "clf.score(X_test, y_test)"
   ]
  },
  {
   "cell_type": "markdown",
   "metadata": {},
   "source": [
    "- Although gridsearch is very powerful tool for finding optimal parameter combinations, its computationally very expensive.  \n",
    "- Alternative approach is to use randomized search"
   ]
  },
  {
   "cell_type": "markdown",
   "metadata": {},
   "source": [
    "## Algorithm Selection via nested cross-validation\n",
    "- Using kfold cv with gridsearch is powreful tool for fine-tuning ML models by varying its hyperparameter values\n",
    "- if one wants to select among different ML algorithms, another recommended approach is nested cross-validation\n",
    "- nested cv is also called 5x2 cv and in sklearn we use nested cv by using cv=2.  "
   ]
  },
  {
   "cell_type": "code",
   "execution_count": 45,
   "metadata": {},
   "outputs": [],
   "source": [
    "gs = GridSearchCV(estimator=pipe_svc, param_grid=param_grid, scoring='accuracy', cv=2, n_jobs=-1)"
   ]
  },
  {
   "cell_type": "code",
   "execution_count": 49,
   "metadata": {},
   "outputs": [],
   "source": [
    "scores = cross_val_score(gs, X_dev, y_dev, scoring='accuracy', cv=5)"
   ]
  },
  {
   "cell_type": "code",
   "execution_count": 50,
   "metadata": {},
   "outputs": [
    {
     "data": {
      "text/plain": [
       "0.9736263736263737"
      ]
     },
     "execution_count": 50,
     "metadata": {},
     "output_type": "execute_result"
    }
   ],
   "source": [
    "np.mean(scores)"
   ]
  },
  {
   "cell_type": "code",
   "execution_count": 52,
   "metadata": {},
   "outputs": [
    {
     "data": {
      "text/plain": [
       "0.9340659340659341"
      ]
     },
     "execution_count": 52,
     "metadata": {},
     "output_type": "execute_result"
    }
   ],
   "source": [
    "from sklearn.tree import DecisionTreeClassifier\n",
    "\n",
    "clf_dt = DecisionTreeClassifier(random_state=0)\n",
    "gs = GridSearchCV(estimator=clf_dt, param_grid=[{'max_depth': [1, 2, 3, 4, 5, 6, 7, None]}], scoring='accuracy', cv=2)\n",
    "scores = cross_val_score(gs, X_dev, y_dev, scoring='accuracy', cv=5)\n",
    "np.mean(scores)"
   ]
  },
  {
   "cell_type": "markdown",
   "metadata": {},
   "source": [
    "- Hence we see, nested cross validation performance of SVM model (97.4% accuracy) is better than performance of decision tree (93.4%)\n",
    "- So we expect that it might be better choice to classify new data with SVM rather than DT, based on distribution of this data $D$"
   ]
  },
  {
   "cell_type": "markdown",
   "metadata": {},
   "source": [
    "## Plotting ROC Curves\n",
    "- helpful tool to select models for classification based on their performance with respect to FPR and TPR\n",
    "- Diagonal of ROC is called random guessing\n",
    "- Classification models that fall below diagonal are worse than random guessing\n",
    "- perfect classifier will fall in top left corner of graph with TPR=1 and FPR=0\n",
    "- Based on ROC, we can compute the ROC Area Under the Curve (ROC AUC) to characterize performance of classification models\n",
    "- __precision-recall curves__ plot different probability thresholds of a classifier\n",
    "- Assume $D$ is the Wisconson Breast Cancer dataset and lets use logistic regression pipeline.  We will make classification task more challenging for the classifier so that resulting ROC curve becomes visually more interesting\n",
    "- For the same reason, we will reduce CV to 3 folds (to help visualize better)"
   ]
  },
  {
   "cell_type": "code",
   "execution_count": null,
   "metadata": {},
   "outputs": [],
   "source": []
  },
  {
   "cell_type": "code",
   "execution_count": null,
   "metadata": {},
   "outputs": [],
   "source": []
  },
  {
   "cell_type": "code",
   "execution_count": null,
   "metadata": {},
   "outputs": [],
   "source": []
  },
  {
   "cell_type": "markdown",
   "metadata": {},
   "source": [
    "## Dealing with Class Imbalance"
   ]
  },
  {
   "cell_type": "code",
   "execution_count": null,
   "metadata": {},
   "outputs": [],
   "source": []
  },
  {
   "cell_type": "code",
   "execution_count": null,
   "metadata": {},
   "outputs": [],
   "source": []
  },
  {
   "cell_type": "markdown",
   "metadata": {},
   "source": [
    "## BootStrapping"
   ]
  },
  {
   "cell_type": "code",
   "execution_count": null,
   "metadata": {},
   "outputs": [],
   "source": [
    "## "
   ]
  }
 ],
 "metadata": {
  "kernelspec": {
   "display_name": "Python 3.9.13 ('neptune_env': venv)",
   "language": "python",
   "name": "python3"
  },
  "language_info": {
   "codemirror_mode": {
    "name": "ipython",
    "version": 3
   },
   "file_extension": ".py",
   "mimetype": "text/x-python",
   "name": "python",
   "nbconvert_exporter": "python",
   "pygments_lexer": "ipython3",
   "version": "3.9.13"
  },
  "orig_nbformat": 4,
  "vscode": {
   "interpreter": {
    "hash": "9e593a66f2262b62f47585b02ae3b38664f3faa8e13c94c9408b4b76c866dad8"
   }
  }
 },
 "nbformat": 4,
 "nbformat_minor": 2
}
